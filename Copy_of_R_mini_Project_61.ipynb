{
  "nbformat": 4,
  "nbformat_minor": 0,
  "metadata": {
    "colab": {
      "name": "Copy of R_mini_Project_61.ipynb",
      "provenance": [],
      "authorship_tag": "ABX9TyPuS3nNUK2DECf3RheY5XtS",
      "include_colab_link": true
    },
    "kernelspec": {
      "name": "ir",
      "display_name": "R"
    },
    "language_info": {
      "name": "R"
    }
  },
  "cells": [
    {
      "cell_type": "markdown",
      "metadata": {
        "id": "view-in-github",
        "colab_type": "text"
      },
      "source": [
        "<a href=\"https://colab.research.google.com/github/jotiba98/R-Lab/blob/main/Copy_of_R_mini_Project_61.ipynb\" target=\"_parent\"><img src=\"https://colab.research.google.com/assets/colab-badge.svg\" alt=\"Open In Colab\"/></a>"
      ]
    },
    {
      "cell_type": "code",
      "metadata": {
        "colab": {
          "base_uri": "https://localhost:8080/",
          "height": 1000
        },
        "id": "7Abqiv8xNQJr",
        "outputId": "2e295ca7-5633-4e22-fbdd-f1e41d8f4d16"
      },
      "source": [
        "data<-read.csv(\"https://raw.githubusercontent.com/rushidarge/Rlab_College/main/data/home.csv\")\n",
        "data"
      ],
      "execution_count": null,
      "outputs": [
        {
          "output_type": "display_data",
          "data": {
            "text/plain": [
              "     Id   MSSubClass MSZoning LotFrontage LotArea Street Alley LotShape\n",
              "1     1    60        RL        65          8450   Pave   NA    Reg     \n",
              "2     2    20        RL        80          9600   Pave   NA    Reg     \n",
              "3     3    60        RL        68         11250   Pave   NA    IR1     \n",
              "4     4    70        RL        60          9550   Pave   NA    IR1     \n",
              "5     5    60        RL        84         14260   Pave   NA    IR1     \n",
              "6     6    50        RL        85         14115   Pave   NA    IR1     \n",
              "7     7    20        RL        75         10084   Pave   NA    Reg     \n",
              "8     8    60        RL        NA         10382   Pave   NA    IR1     \n",
              "9     9    50        RM        51          6120   Pave   NA    Reg     \n",
              "10   10   190        RL        50          7420   Pave   NA    Reg     \n",
              "11   11    20        RL        70         11200   Pave   NA    Reg     \n",
              "12   12    60        RL        85         11924   Pave   NA    IR1     \n",
              "13   13    20        RL        NA         12968   Pave   NA    IR2     \n",
              "14   14    20        RL        91         10652   Pave   NA    IR1     \n",
              "15   15    20        RL        NA         10920   Pave   NA    IR1     \n",
              "16   16    45        RM        51          6120   Pave   NA    Reg     \n",
              "17   17    20        RL        NA         11241   Pave   NA    IR1     \n",
              "18   18    90        RL        72         10791   Pave   NA    Reg     \n",
              "19   19    20        RL        66         13695   Pave   NA    Reg     \n",
              "20   20    20        RL        70          7560   Pave   NA    Reg     \n",
              "21   21    60        RL       101         14215   Pave   NA    IR1     \n",
              "22   22    45        RM        57          7449   Pave   Grvl  Reg     \n",
              "23   23    20        RL        75          9742   Pave   NA    Reg     \n",
              "24   24   120        RM        44          4224   Pave   NA    Reg     \n",
              "25   25    20        RL        NA          8246   Pave   NA    IR1     \n",
              "26   26    20        RL       110         14230   Pave   NA    Reg     \n",
              "27   27    20        RL        60          7200   Pave   NA    Reg     \n",
              "28   28    20        RL        98         11478   Pave   NA    Reg     \n",
              "29   29    20        RL        47         16321   Pave   NA    IR1     \n",
              "30   30    30        RM        60          6324   Pave   NA    IR1     \n",
              "⋮    ⋮    ⋮          ⋮        ⋮           ⋮       ⋮      ⋮     ⋮       \n",
              "1431 1431  60        RL       60          21930   Pave   NA    IR3     \n",
              "1432 1432 120        RL       NA           4928   Pave   NA    IR1     \n",
              "1433 1433  30        RL       60          10800   Pave   Grvl  Reg     \n",
              "1434 1434  60        RL       93          10261   Pave   NA    IR1     \n",
              "1435 1435  20        RL       80          17400   Pave   NA    Reg     \n",
              "1436 1436  20        RL       80           8400   Pave   NA    Reg     \n",
              "1437 1437  20        RL       60           9000   Pave   NA    Reg     \n",
              "1438 1438  20        RL       96          12444   Pave   NA    Reg     \n",
              "1439 1439  20        RM       90           7407   Pave   NA    Reg     \n",
              "1440 1440  60        RL       80          11584   Pave   NA    Reg     \n",
              "1441 1441  70        RL       79          11526   Pave   NA    IR1     \n",
              "1442 1442 120        RM       NA           4426   Pave   NA    Reg     \n",
              "1443 1443  60        FV       85          11003   Pave   NA    Reg     \n",
              "1444 1444  30        RL       NA           8854   Pave   NA    Reg     \n",
              "1445 1445  20        RL       63           8500   Pave   NA    Reg     \n",
              "1446 1446  85        RL       70           8400   Pave   NA    Reg     \n",
              "1447 1447  20        RL       NA          26142   Pave   NA    IR1     \n",
              "1448 1448  60        RL       80          10000   Pave   NA    Reg     \n",
              "1449 1449  50        RL       70          11767   Pave   NA    Reg     \n",
              "1450 1450 180        RM       21           1533   Pave   NA    Reg     \n",
              "1451 1451  90        RL       60           9000   Pave   NA    Reg     \n",
              "1452 1452  20        RL       78           9262   Pave   NA    Reg     \n",
              "1453 1453 180        RM       35           3675   Pave   NA    Reg     \n",
              "1454 1454  20        RL       90          17217   Pave   NA    Reg     \n",
              "1455 1455  20        FV       62           7500   Pave   Pave  Reg     \n",
              "1456 1456  60        RL       62           7917   Pave   NA    Reg     \n",
              "1457 1457  20        RL       85          13175   Pave   NA    Reg     \n",
              "1458 1458  70        RL       66           9042   Pave   NA    Reg     \n",
              "1459 1459  20        RL       68           9717   Pave   NA    Reg     \n",
              "1460 1460  20        RL       75           9937   Pave   NA    Reg     \n",
              "     LandContour Utilities ⋯ PoolArea PoolQC Fence MiscFeature MiscVal MoSold\n",
              "1    Lvl         AllPub    ⋯ 0        NA     NA    NA            0      2    \n",
              "2    Lvl         AllPub    ⋯ 0        NA     NA    NA            0      5    \n",
              "3    Lvl         AllPub    ⋯ 0        NA     NA    NA            0      9    \n",
              "4    Lvl         AllPub    ⋯ 0        NA     NA    NA            0      2    \n",
              "5    Lvl         AllPub    ⋯ 0        NA     NA    NA            0     12    \n",
              "6    Lvl         AllPub    ⋯ 0        NA     MnPrv Shed        700     10    \n",
              "7    Lvl         AllPub    ⋯ 0        NA     NA    NA            0      8    \n",
              "8    Lvl         AllPub    ⋯ 0        NA     NA    Shed        350     11    \n",
              "9    Lvl         AllPub    ⋯ 0        NA     NA    NA            0      4    \n",
              "10   Lvl         AllPub    ⋯ 0        NA     NA    NA            0      1    \n",
              "11   Lvl         AllPub    ⋯ 0        NA     NA    NA            0      2    \n",
              "12   Lvl         AllPub    ⋯ 0        NA     NA    NA            0      7    \n",
              "13   Lvl         AllPub    ⋯ 0        NA     NA    NA            0      9    \n",
              "14   Lvl         AllPub    ⋯ 0        NA     NA    NA            0      8    \n",
              "15   Lvl         AllPub    ⋯ 0        NA     GdWo  NA            0      5    \n",
              "16   Lvl         AllPub    ⋯ 0        NA     GdPrv NA            0      7    \n",
              "17   Lvl         AllPub    ⋯ 0        NA     NA    Shed        700      3    \n",
              "18   Lvl         AllPub    ⋯ 0        NA     NA    Shed        500     10    \n",
              "19   Lvl         AllPub    ⋯ 0        NA     NA    NA            0      6    \n",
              "20   Lvl         AllPub    ⋯ 0        NA     MnPrv NA            0      5    \n",
              "21   Lvl         AllPub    ⋯ 0        NA     NA    NA            0     11    \n",
              "22   Bnk         AllPub    ⋯ 0        NA     GdPrv NA            0      6    \n",
              "23   Lvl         AllPub    ⋯ 0        NA     NA    NA            0      9    \n",
              "24   Lvl         AllPub    ⋯ 0        NA     NA    NA            0      6    \n",
              "25   Lvl         AllPub    ⋯ 0        NA     MnPrv NA            0      5    \n",
              "26   Lvl         AllPub    ⋯ 0        NA     NA    NA            0      7    \n",
              "27   Lvl         AllPub    ⋯ 0        NA     NA    NA            0      5    \n",
              "28   Lvl         AllPub    ⋯ 0        NA     NA    NA            0      5    \n",
              "29   Lvl         AllPub    ⋯ 0        NA     NA    NA            0     12    \n",
              "30   Lvl         AllPub    ⋯ 0        NA     NA    NA            0      5    \n",
              "⋮    ⋮           ⋮         ⋱ ⋮        ⋮      ⋮     ⋮           ⋮       ⋮     \n",
              "1431 Lvl         AllPub    ⋯ 0        NA     NA    NA             0     7    \n",
              "1432 Lvl         AllPub    ⋯ 0        NA     NA    NA             0    10    \n",
              "1433 Lvl         AllPub    ⋯ 0        NA     NA    NA             0     8    \n",
              "1434 Lvl         AllPub    ⋯ 0        NA     NA    NA             0     5    \n",
              "1435 Low         AllPub    ⋯ 0        NA     NA    NA             0     5    \n",
              "1436 Lvl         AllPub    ⋯ 0        NA     GdPrv NA             0     7    \n",
              "1437 Lvl         AllPub    ⋯ 0        NA     GdWo  NA             0     5    \n",
              "1438 Lvl         AllPub    ⋯ 0        NA     NA    NA             0    11    \n",
              "1439 Lvl         AllPub    ⋯ 0        NA     MnPrv NA             0     4    \n",
              "1440 Lvl         AllPub    ⋯ 0        NA     NA    NA             0    11    \n",
              "1441 Bnk         AllPub    ⋯ 0        NA     NA    NA             0     9    \n",
              "1442 Lvl         AllPub    ⋯ 0        NA     NA    NA             0     5    \n",
              "1443 Lvl         AllPub    ⋯ 0        NA     NA    NA             0     4    \n",
              "1444 Lvl         AllPub    ⋯ 0        NA     NA    NA             0     5    \n",
              "1445 Lvl         AllPub    ⋯ 0        NA     NA    NA             0    11    \n",
              "1446 Lvl         AllPub    ⋯ 0        NA     NA    NA             0     5    \n",
              "1447 Lvl         AllPub    ⋯ 0        NA     NA    NA             0     4    \n",
              "1448 Lvl         AllPub    ⋯ 0        NA     NA    NA             0    12    \n",
              "1449 Lvl         AllPub    ⋯ 0        NA     GdWo  NA             0     5    \n",
              "1450 Lvl         AllPub    ⋯ 0        NA     NA    NA             0     8    \n",
              "1451 Lvl         AllPub    ⋯ 0        NA     NA    NA             0     9    \n",
              "1452 Lvl         AllPub    ⋯ 0        NA     NA    NA             0     5    \n",
              "1453 Lvl         AllPub    ⋯ 0        NA     NA    NA             0     5    \n",
              "1454 Lvl         AllPub    ⋯ 0        NA     NA    NA             0     7    \n",
              "1455 Lvl         AllPub    ⋯ 0        NA     NA    NA             0    10    \n",
              "1456 Lvl         AllPub    ⋯ 0        NA     NA    NA             0     8    \n",
              "1457 Lvl         AllPub    ⋯ 0        NA     MnPrv NA             0     2    \n",
              "1458 Lvl         AllPub    ⋯ 0        NA     GdPrv Shed        2500     5    \n",
              "1459 Lvl         AllPub    ⋯ 0        NA     NA    NA             0     4    \n",
              "1460 Lvl         AllPub    ⋯ 0        NA     NA    NA             0     6    \n",
              "     YrSold SaleType SaleCondition SalePrice\n",
              "1    2008   WD       Normal        208500   \n",
              "2    2007   WD       Normal        181500   \n",
              "3    2008   WD       Normal        223500   \n",
              "4    2006   WD       Abnorml       140000   \n",
              "5    2008   WD       Normal        250000   \n",
              "6    2009   WD       Normal        143000   \n",
              "7    2007   WD       Normal        307000   \n",
              "8    2009   WD       Normal        200000   \n",
              "9    2008   WD       Abnorml       129900   \n",
              "10   2008   WD       Normal        118000   \n",
              "11   2008   WD       Normal        129500   \n",
              "12   2006   New      Partial       345000   \n",
              "13   2008   WD       Normal        144000   \n",
              "14   2007   New      Partial       279500   \n",
              "15   2008   WD       Normal        157000   \n",
              "16   2007   WD       Normal        132000   \n",
              "17   2010   WD       Normal        149000   \n",
              "18   2006   WD       Normal         90000   \n",
              "19   2008   WD       Normal        159000   \n",
              "20   2009   COD      Abnorml       139000   \n",
              "21   2006   New      Partial       325300   \n",
              "22   2007   WD       Normal        139400   \n",
              "23   2008   WD       Normal        230000   \n",
              "24   2007   WD       Normal        129900   \n",
              "25   2010   WD       Normal        154000   \n",
              "26   2009   WD       Normal        256300   \n",
              "27   2010   WD       Normal        134800   \n",
              "28   2010   WD       Normal        306000   \n",
              "29   2006   WD       Normal        207500   \n",
              "30   2008   WD       Normal         68500   \n",
              "⋮    ⋮      ⋮        ⋮             ⋮        \n",
              "1431 2006   WD       Normal        192140   \n",
              "1432 2009   WD       Normal        143750   \n",
              "1433 2007   WD       Normal         64500   \n",
              "1434 2008   WD       Normal        186500   \n",
              "1435 2006   WD       Normal        160000   \n",
              "1436 2008   COD      Abnorml       174000   \n",
              "1437 2007   WD       Normal        120500   \n",
              "1438 2008   New      Partial       394617   \n",
              "1439 2010   WD       Normal        149700   \n",
              "1440 2007   WD       Normal        197000   \n",
              "1441 2008   WD       Normal        191000   \n",
              "1442 2008   WD       Normal        149300   \n",
              "1443 2009   WD       Normal        310000   \n",
              "1444 2009   WD       Normal        121000   \n",
              "1445 2007   WD       Normal        179600   \n",
              "1446 2007   WD       Normal        129000   \n",
              "1447 2010   WD       Normal        157900   \n",
              "1448 2007   WD       Normal        240000   \n",
              "1449 2007   WD       Normal        112000   \n",
              "1450 2006   WD       Abnorml        92000   \n",
              "1451 2009   WD       Normal        136000   \n",
              "1452 2009   New      Partial       287090   \n",
              "1453 2006   WD       Normal        145000   \n",
              "1454 2006   WD       Abnorml        84500   \n",
              "1455 2009   WD       Normal        185000   \n",
              "1456 2007   WD       Normal        175000   \n",
              "1457 2010   WD       Normal        210000   \n",
              "1458 2010   WD       Normal        266500   \n",
              "1459 2010   WD       Normal        142125   \n",
              "1460 2008   WD       Normal        147500   "
            ],
            "text/latex": "A data.frame: 1460 × 81\n\\begin{tabular}{lllllllllllllllllllll}\n Id & MSSubClass & MSZoning & LotFrontage & LotArea & Street & Alley & LotShape & LandContour & Utilities & ⋯ & PoolArea & PoolQC & Fence & MiscFeature & MiscVal & MoSold & YrSold & SaleType & SaleCondition & SalePrice\\\\\n <int> & <int> & <chr> & <int> & <int> & <chr> & <chr> & <chr> & <chr> & <chr> & ⋯ & <int> & <chr> & <chr> & <chr> & <int> & <int> & <int> & <chr> & <chr> & <int>\\\\\n\\hline\n\t  1 &  60 & RL &  65 &  8450 & Pave & NA   & Reg & Lvl & AllPub & ⋯ & 0 & NA & NA    & NA   &   0 &  2 & 2008 & WD  & Normal  & 208500\\\\\n\t  2 &  20 & RL &  80 &  9600 & Pave & NA   & Reg & Lvl & AllPub & ⋯ & 0 & NA & NA    & NA   &   0 &  5 & 2007 & WD  & Normal  & 181500\\\\\n\t  3 &  60 & RL &  68 & 11250 & Pave & NA   & IR1 & Lvl & AllPub & ⋯ & 0 & NA & NA    & NA   &   0 &  9 & 2008 & WD  & Normal  & 223500\\\\\n\t  4 &  70 & RL &  60 &  9550 & Pave & NA   & IR1 & Lvl & AllPub & ⋯ & 0 & NA & NA    & NA   &   0 &  2 & 2006 & WD  & Abnorml & 140000\\\\\n\t  5 &  60 & RL &  84 & 14260 & Pave & NA   & IR1 & Lvl & AllPub & ⋯ & 0 & NA & NA    & NA   &   0 & 12 & 2008 & WD  & Normal  & 250000\\\\\n\t  6 &  50 & RL &  85 & 14115 & Pave & NA   & IR1 & Lvl & AllPub & ⋯ & 0 & NA & MnPrv & Shed & 700 & 10 & 2009 & WD  & Normal  & 143000\\\\\n\t  7 &  20 & RL &  75 & 10084 & Pave & NA   & Reg & Lvl & AllPub & ⋯ & 0 & NA & NA    & NA   &   0 &  8 & 2007 & WD  & Normal  & 307000\\\\\n\t  8 &  60 & RL &  NA & 10382 & Pave & NA   & IR1 & Lvl & AllPub & ⋯ & 0 & NA & NA    & Shed & 350 & 11 & 2009 & WD  & Normal  & 200000\\\\\n\t  9 &  50 & RM &  51 &  6120 & Pave & NA   & Reg & Lvl & AllPub & ⋯ & 0 & NA & NA    & NA   &   0 &  4 & 2008 & WD  & Abnorml & 129900\\\\\n\t 10 & 190 & RL &  50 &  7420 & Pave & NA   & Reg & Lvl & AllPub & ⋯ & 0 & NA & NA    & NA   &   0 &  1 & 2008 & WD  & Normal  & 118000\\\\\n\t 11 &  20 & RL &  70 & 11200 & Pave & NA   & Reg & Lvl & AllPub & ⋯ & 0 & NA & NA    & NA   &   0 &  2 & 2008 & WD  & Normal  & 129500\\\\\n\t 12 &  60 & RL &  85 & 11924 & Pave & NA   & IR1 & Lvl & AllPub & ⋯ & 0 & NA & NA    & NA   &   0 &  7 & 2006 & New & Partial & 345000\\\\\n\t 13 &  20 & RL &  NA & 12968 & Pave & NA   & IR2 & Lvl & AllPub & ⋯ & 0 & NA & NA    & NA   &   0 &  9 & 2008 & WD  & Normal  & 144000\\\\\n\t 14 &  20 & RL &  91 & 10652 & Pave & NA   & IR1 & Lvl & AllPub & ⋯ & 0 & NA & NA    & NA   &   0 &  8 & 2007 & New & Partial & 279500\\\\\n\t 15 &  20 & RL &  NA & 10920 & Pave & NA   & IR1 & Lvl & AllPub & ⋯ & 0 & NA & GdWo  & NA   &   0 &  5 & 2008 & WD  & Normal  & 157000\\\\\n\t 16 &  45 & RM &  51 &  6120 & Pave & NA   & Reg & Lvl & AllPub & ⋯ & 0 & NA & GdPrv & NA   &   0 &  7 & 2007 & WD  & Normal  & 132000\\\\\n\t 17 &  20 & RL &  NA & 11241 & Pave & NA   & IR1 & Lvl & AllPub & ⋯ & 0 & NA & NA    & Shed & 700 &  3 & 2010 & WD  & Normal  & 149000\\\\\n\t 18 &  90 & RL &  72 & 10791 & Pave & NA   & Reg & Lvl & AllPub & ⋯ & 0 & NA & NA    & Shed & 500 & 10 & 2006 & WD  & Normal  &  90000\\\\\n\t 19 &  20 & RL &  66 & 13695 & Pave & NA   & Reg & Lvl & AllPub & ⋯ & 0 & NA & NA    & NA   &   0 &  6 & 2008 & WD  & Normal  & 159000\\\\\n\t 20 &  20 & RL &  70 &  7560 & Pave & NA   & Reg & Lvl & AllPub & ⋯ & 0 & NA & MnPrv & NA   &   0 &  5 & 2009 & COD & Abnorml & 139000\\\\\n\t 21 &  60 & RL & 101 & 14215 & Pave & NA   & IR1 & Lvl & AllPub & ⋯ & 0 & NA & NA    & NA   &   0 & 11 & 2006 & New & Partial & 325300\\\\\n\t 22 &  45 & RM &  57 &  7449 & Pave & Grvl & Reg & Bnk & AllPub & ⋯ & 0 & NA & GdPrv & NA   &   0 &  6 & 2007 & WD  & Normal  & 139400\\\\\n\t 23 &  20 & RL &  75 &  9742 & Pave & NA   & Reg & Lvl & AllPub & ⋯ & 0 & NA & NA    & NA   &   0 &  9 & 2008 & WD  & Normal  & 230000\\\\\n\t 24 & 120 & RM &  44 &  4224 & Pave & NA   & Reg & Lvl & AllPub & ⋯ & 0 & NA & NA    & NA   &   0 &  6 & 2007 & WD  & Normal  & 129900\\\\\n\t 25 &  20 & RL &  NA &  8246 & Pave & NA   & IR1 & Lvl & AllPub & ⋯ & 0 & NA & MnPrv & NA   &   0 &  5 & 2010 & WD  & Normal  & 154000\\\\\n\t 26 &  20 & RL & 110 & 14230 & Pave & NA   & Reg & Lvl & AllPub & ⋯ & 0 & NA & NA    & NA   &   0 &  7 & 2009 & WD  & Normal  & 256300\\\\\n\t 27 &  20 & RL &  60 &  7200 & Pave & NA   & Reg & Lvl & AllPub & ⋯ & 0 & NA & NA    & NA   &   0 &  5 & 2010 & WD  & Normal  & 134800\\\\\n\t 28 &  20 & RL &  98 & 11478 & Pave & NA   & Reg & Lvl & AllPub & ⋯ & 0 & NA & NA    & NA   &   0 &  5 & 2010 & WD  & Normal  & 306000\\\\\n\t 29 &  20 & RL &  47 & 16321 & Pave & NA   & IR1 & Lvl & AllPub & ⋯ & 0 & NA & NA    & NA   &   0 & 12 & 2006 & WD  & Normal  & 207500\\\\\n\t 30 &  30 & RM &  60 &  6324 & Pave & NA   & IR1 & Lvl & AllPub & ⋯ & 0 & NA & NA    & NA   &   0 &  5 & 2008 & WD  & Normal  &  68500\\\\\n\t ⋮ & ⋮ & ⋮ & ⋮ & ⋮ & ⋮ & ⋮ & ⋮ & ⋮ & ⋮ & ⋱ & ⋮ & ⋮ & ⋮ & ⋮ & ⋮ & ⋮ & ⋮ & ⋮ & ⋮ & ⋮\\\\\n\t 1431 &  60 & RL & 60 & 21930 & Pave & NA   & IR3 & Lvl & AllPub & ⋯ & 0 & NA & NA    & NA   &    0 &  7 & 2006 & WD  & Normal  & 192140\\\\\n\t 1432 & 120 & RL & NA &  4928 & Pave & NA   & IR1 & Lvl & AllPub & ⋯ & 0 & NA & NA    & NA   &    0 & 10 & 2009 & WD  & Normal  & 143750\\\\\n\t 1433 &  30 & RL & 60 & 10800 & Pave & Grvl & Reg & Lvl & AllPub & ⋯ & 0 & NA & NA    & NA   &    0 &  8 & 2007 & WD  & Normal  &  64500\\\\\n\t 1434 &  60 & RL & 93 & 10261 & Pave & NA   & IR1 & Lvl & AllPub & ⋯ & 0 & NA & NA    & NA   &    0 &  5 & 2008 & WD  & Normal  & 186500\\\\\n\t 1435 &  20 & RL & 80 & 17400 & Pave & NA   & Reg & Low & AllPub & ⋯ & 0 & NA & NA    & NA   &    0 &  5 & 2006 & WD  & Normal  & 160000\\\\\n\t 1436 &  20 & RL & 80 &  8400 & Pave & NA   & Reg & Lvl & AllPub & ⋯ & 0 & NA & GdPrv & NA   &    0 &  7 & 2008 & COD & Abnorml & 174000\\\\\n\t 1437 &  20 & RL & 60 &  9000 & Pave & NA   & Reg & Lvl & AllPub & ⋯ & 0 & NA & GdWo  & NA   &    0 &  5 & 2007 & WD  & Normal  & 120500\\\\\n\t 1438 &  20 & RL & 96 & 12444 & Pave & NA   & Reg & Lvl & AllPub & ⋯ & 0 & NA & NA    & NA   &    0 & 11 & 2008 & New & Partial & 394617\\\\\n\t 1439 &  20 & RM & 90 &  7407 & Pave & NA   & Reg & Lvl & AllPub & ⋯ & 0 & NA & MnPrv & NA   &    0 &  4 & 2010 & WD  & Normal  & 149700\\\\\n\t 1440 &  60 & RL & 80 & 11584 & Pave & NA   & Reg & Lvl & AllPub & ⋯ & 0 & NA & NA    & NA   &    0 & 11 & 2007 & WD  & Normal  & 197000\\\\\n\t 1441 &  70 & RL & 79 & 11526 & Pave & NA   & IR1 & Bnk & AllPub & ⋯ & 0 & NA & NA    & NA   &    0 &  9 & 2008 & WD  & Normal  & 191000\\\\\n\t 1442 & 120 & RM & NA &  4426 & Pave & NA   & Reg & Lvl & AllPub & ⋯ & 0 & NA & NA    & NA   &    0 &  5 & 2008 & WD  & Normal  & 149300\\\\\n\t 1443 &  60 & FV & 85 & 11003 & Pave & NA   & Reg & Lvl & AllPub & ⋯ & 0 & NA & NA    & NA   &    0 &  4 & 2009 & WD  & Normal  & 310000\\\\\n\t 1444 &  30 & RL & NA &  8854 & Pave & NA   & Reg & Lvl & AllPub & ⋯ & 0 & NA & NA    & NA   &    0 &  5 & 2009 & WD  & Normal  & 121000\\\\\n\t 1445 &  20 & RL & 63 &  8500 & Pave & NA   & Reg & Lvl & AllPub & ⋯ & 0 & NA & NA    & NA   &    0 & 11 & 2007 & WD  & Normal  & 179600\\\\\n\t 1446 &  85 & RL & 70 &  8400 & Pave & NA   & Reg & Lvl & AllPub & ⋯ & 0 & NA & NA    & NA   &    0 &  5 & 2007 & WD  & Normal  & 129000\\\\\n\t 1447 &  20 & RL & NA & 26142 & Pave & NA   & IR1 & Lvl & AllPub & ⋯ & 0 & NA & NA    & NA   &    0 &  4 & 2010 & WD  & Normal  & 157900\\\\\n\t 1448 &  60 & RL & 80 & 10000 & Pave & NA   & Reg & Lvl & AllPub & ⋯ & 0 & NA & NA    & NA   &    0 & 12 & 2007 & WD  & Normal  & 240000\\\\\n\t 1449 &  50 & RL & 70 & 11767 & Pave & NA   & Reg & Lvl & AllPub & ⋯ & 0 & NA & GdWo  & NA   &    0 &  5 & 2007 & WD  & Normal  & 112000\\\\\n\t 1450 & 180 & RM & 21 &  1533 & Pave & NA   & Reg & Lvl & AllPub & ⋯ & 0 & NA & NA    & NA   &    0 &  8 & 2006 & WD  & Abnorml &  92000\\\\\n\t 1451 &  90 & RL & 60 &  9000 & Pave & NA   & Reg & Lvl & AllPub & ⋯ & 0 & NA & NA    & NA   &    0 &  9 & 2009 & WD  & Normal  & 136000\\\\\n\t 1452 &  20 & RL & 78 &  9262 & Pave & NA   & Reg & Lvl & AllPub & ⋯ & 0 & NA & NA    & NA   &    0 &  5 & 2009 & New & Partial & 287090\\\\\n\t 1453 & 180 & RM & 35 &  3675 & Pave & NA   & Reg & Lvl & AllPub & ⋯ & 0 & NA & NA    & NA   &    0 &  5 & 2006 & WD  & Normal  & 145000\\\\\n\t 1454 &  20 & RL & 90 & 17217 & Pave & NA   & Reg & Lvl & AllPub & ⋯ & 0 & NA & NA    & NA   &    0 &  7 & 2006 & WD  & Abnorml &  84500\\\\\n\t 1455 &  20 & FV & 62 &  7500 & Pave & Pave & Reg & Lvl & AllPub & ⋯ & 0 & NA & NA    & NA   &    0 & 10 & 2009 & WD  & Normal  & 185000\\\\\n\t 1456 &  60 & RL & 62 &  7917 & Pave & NA   & Reg & Lvl & AllPub & ⋯ & 0 & NA & NA    & NA   &    0 &  8 & 2007 & WD  & Normal  & 175000\\\\\n\t 1457 &  20 & RL & 85 & 13175 & Pave & NA   & Reg & Lvl & AllPub & ⋯ & 0 & NA & MnPrv & NA   &    0 &  2 & 2010 & WD  & Normal  & 210000\\\\\n\t 1458 &  70 & RL & 66 &  9042 & Pave & NA   & Reg & Lvl & AllPub & ⋯ & 0 & NA & GdPrv & Shed & 2500 &  5 & 2010 & WD  & Normal  & 266500\\\\\n\t 1459 &  20 & RL & 68 &  9717 & Pave & NA   & Reg & Lvl & AllPub & ⋯ & 0 & NA & NA    & NA   &    0 &  4 & 2010 & WD  & Normal  & 142125\\\\\n\t 1460 &  20 & RL & 75 &  9937 & Pave & NA   & Reg & Lvl & AllPub & ⋯ & 0 & NA & NA    & NA   &    0 &  6 & 2008 & WD  & Normal  & 147500\\\\\n\\end{tabular}\n",
            "text/markdown": "\nA data.frame: 1460 × 81\n\n| Id &lt;int&gt; | MSSubClass &lt;int&gt; | MSZoning &lt;chr&gt; | LotFrontage &lt;int&gt; | LotArea &lt;int&gt; | Street &lt;chr&gt; | Alley &lt;chr&gt; | LotShape &lt;chr&gt; | LandContour &lt;chr&gt; | Utilities &lt;chr&gt; | ⋯ ⋯ | PoolArea &lt;int&gt; | PoolQC &lt;chr&gt; | Fence &lt;chr&gt; | MiscFeature &lt;chr&gt; | MiscVal &lt;int&gt; | MoSold &lt;int&gt; | YrSold &lt;int&gt; | SaleType &lt;chr&gt; | SaleCondition &lt;chr&gt; | SalePrice &lt;int&gt; |\n|---|---|---|---|---|---|---|---|---|---|---|---|---|---|---|---|---|---|---|---|---|\n|  1 |  60 | RL |  65 |  8450 | Pave | NA   | Reg | Lvl | AllPub | ⋯ | 0 | NA | NA    | NA   |   0 |  2 | 2008 | WD  | Normal  | 208500 |\n|  2 |  20 | RL |  80 |  9600 | Pave | NA   | Reg | Lvl | AllPub | ⋯ | 0 | NA | NA    | NA   |   0 |  5 | 2007 | WD  | Normal  | 181500 |\n|  3 |  60 | RL |  68 | 11250 | Pave | NA   | IR1 | Lvl | AllPub | ⋯ | 0 | NA | NA    | NA   |   0 |  9 | 2008 | WD  | Normal  | 223500 |\n|  4 |  70 | RL |  60 |  9550 | Pave | NA   | IR1 | Lvl | AllPub | ⋯ | 0 | NA | NA    | NA   |   0 |  2 | 2006 | WD  | Abnorml | 140000 |\n|  5 |  60 | RL |  84 | 14260 | Pave | NA   | IR1 | Lvl | AllPub | ⋯ | 0 | NA | NA    | NA   |   0 | 12 | 2008 | WD  | Normal  | 250000 |\n|  6 |  50 | RL |  85 | 14115 | Pave | NA   | IR1 | Lvl | AllPub | ⋯ | 0 | NA | MnPrv | Shed | 700 | 10 | 2009 | WD  | Normal  | 143000 |\n|  7 |  20 | RL |  75 | 10084 | Pave | NA   | Reg | Lvl | AllPub | ⋯ | 0 | NA | NA    | NA   |   0 |  8 | 2007 | WD  | Normal  | 307000 |\n|  8 |  60 | RL |  NA | 10382 | Pave | NA   | IR1 | Lvl | AllPub | ⋯ | 0 | NA | NA    | Shed | 350 | 11 | 2009 | WD  | Normal  | 200000 |\n|  9 |  50 | RM |  51 |  6120 | Pave | NA   | Reg | Lvl | AllPub | ⋯ | 0 | NA | NA    | NA   |   0 |  4 | 2008 | WD  | Abnorml | 129900 |\n| 10 | 190 | RL |  50 |  7420 | Pave | NA   | Reg | Lvl | AllPub | ⋯ | 0 | NA | NA    | NA   |   0 |  1 | 2008 | WD  | Normal  | 118000 |\n| 11 |  20 | RL |  70 | 11200 | Pave | NA   | Reg | Lvl | AllPub | ⋯ | 0 | NA | NA    | NA   |   0 |  2 | 2008 | WD  | Normal  | 129500 |\n| 12 |  60 | RL |  85 | 11924 | Pave | NA   | IR1 | Lvl | AllPub | ⋯ | 0 | NA | NA    | NA   |   0 |  7 | 2006 | New | Partial | 345000 |\n| 13 |  20 | RL |  NA | 12968 | Pave | NA   | IR2 | Lvl | AllPub | ⋯ | 0 | NA | NA    | NA   |   0 |  9 | 2008 | WD  | Normal  | 144000 |\n| 14 |  20 | RL |  91 | 10652 | Pave | NA   | IR1 | Lvl | AllPub | ⋯ | 0 | NA | NA    | NA   |   0 |  8 | 2007 | New | Partial | 279500 |\n| 15 |  20 | RL |  NA | 10920 | Pave | NA   | IR1 | Lvl | AllPub | ⋯ | 0 | NA | GdWo  | NA   |   0 |  5 | 2008 | WD  | Normal  | 157000 |\n| 16 |  45 | RM |  51 |  6120 | Pave | NA   | Reg | Lvl | AllPub | ⋯ | 0 | NA | GdPrv | NA   |   0 |  7 | 2007 | WD  | Normal  | 132000 |\n| 17 |  20 | RL |  NA | 11241 | Pave | NA   | IR1 | Lvl | AllPub | ⋯ | 0 | NA | NA    | Shed | 700 |  3 | 2010 | WD  | Normal  | 149000 |\n| 18 |  90 | RL |  72 | 10791 | Pave | NA   | Reg | Lvl | AllPub | ⋯ | 0 | NA | NA    | Shed | 500 | 10 | 2006 | WD  | Normal  |  90000 |\n| 19 |  20 | RL |  66 | 13695 | Pave | NA   | Reg | Lvl | AllPub | ⋯ | 0 | NA | NA    | NA   |   0 |  6 | 2008 | WD  | Normal  | 159000 |\n| 20 |  20 | RL |  70 |  7560 | Pave | NA   | Reg | Lvl | AllPub | ⋯ | 0 | NA | MnPrv | NA   |   0 |  5 | 2009 | COD | Abnorml | 139000 |\n| 21 |  60 | RL | 101 | 14215 | Pave | NA   | IR1 | Lvl | AllPub | ⋯ | 0 | NA | NA    | NA   |   0 | 11 | 2006 | New | Partial | 325300 |\n| 22 |  45 | RM |  57 |  7449 | Pave | Grvl | Reg | Bnk | AllPub | ⋯ | 0 | NA | GdPrv | NA   |   0 |  6 | 2007 | WD  | Normal  | 139400 |\n| 23 |  20 | RL |  75 |  9742 | Pave | NA   | Reg | Lvl | AllPub | ⋯ | 0 | NA | NA    | NA   |   0 |  9 | 2008 | WD  | Normal  | 230000 |\n| 24 | 120 | RM |  44 |  4224 | Pave | NA   | Reg | Lvl | AllPub | ⋯ | 0 | NA | NA    | NA   |   0 |  6 | 2007 | WD  | Normal  | 129900 |\n| 25 |  20 | RL |  NA |  8246 | Pave | NA   | IR1 | Lvl | AllPub | ⋯ | 0 | NA | MnPrv | NA   |   0 |  5 | 2010 | WD  | Normal  | 154000 |\n| 26 |  20 | RL | 110 | 14230 | Pave | NA   | Reg | Lvl | AllPub | ⋯ | 0 | NA | NA    | NA   |   0 |  7 | 2009 | WD  | Normal  | 256300 |\n| 27 |  20 | RL |  60 |  7200 | Pave | NA   | Reg | Lvl | AllPub | ⋯ | 0 | NA | NA    | NA   |   0 |  5 | 2010 | WD  | Normal  | 134800 |\n| 28 |  20 | RL |  98 | 11478 | Pave | NA   | Reg | Lvl | AllPub | ⋯ | 0 | NA | NA    | NA   |   0 |  5 | 2010 | WD  | Normal  | 306000 |\n| 29 |  20 | RL |  47 | 16321 | Pave | NA   | IR1 | Lvl | AllPub | ⋯ | 0 | NA | NA    | NA   |   0 | 12 | 2006 | WD  | Normal  | 207500 |\n| 30 |  30 | RM |  60 |  6324 | Pave | NA   | IR1 | Lvl | AllPub | ⋯ | 0 | NA | NA    | NA   |   0 |  5 | 2008 | WD  | Normal  |  68500 |\n| ⋮ | ⋮ | ⋮ | ⋮ | ⋮ | ⋮ | ⋮ | ⋮ | ⋮ | ⋮ | ⋱ | ⋮ | ⋮ | ⋮ | ⋮ | ⋮ | ⋮ | ⋮ | ⋮ | ⋮ | ⋮ |\n| 1431 |  60 | RL | 60 | 21930 | Pave | NA   | IR3 | Lvl | AllPub | ⋯ | 0 | NA | NA    | NA   |    0 |  7 | 2006 | WD  | Normal  | 192140 |\n| 1432 | 120 | RL | NA |  4928 | Pave | NA   | IR1 | Lvl | AllPub | ⋯ | 0 | NA | NA    | NA   |    0 | 10 | 2009 | WD  | Normal  | 143750 |\n| 1433 |  30 | RL | 60 | 10800 | Pave | Grvl | Reg | Lvl | AllPub | ⋯ | 0 | NA | NA    | NA   |    0 |  8 | 2007 | WD  | Normal  |  64500 |\n| 1434 |  60 | RL | 93 | 10261 | Pave | NA   | IR1 | Lvl | AllPub | ⋯ | 0 | NA | NA    | NA   |    0 |  5 | 2008 | WD  | Normal  | 186500 |\n| 1435 |  20 | RL | 80 | 17400 | Pave | NA   | Reg | Low | AllPub | ⋯ | 0 | NA | NA    | NA   |    0 |  5 | 2006 | WD  | Normal  | 160000 |\n| 1436 |  20 | RL | 80 |  8400 | Pave | NA   | Reg | Lvl | AllPub | ⋯ | 0 | NA | GdPrv | NA   |    0 |  7 | 2008 | COD | Abnorml | 174000 |\n| 1437 |  20 | RL | 60 |  9000 | Pave | NA   | Reg | Lvl | AllPub | ⋯ | 0 | NA | GdWo  | NA   |    0 |  5 | 2007 | WD  | Normal  | 120500 |\n| 1438 |  20 | RL | 96 | 12444 | Pave | NA   | Reg | Lvl | AllPub | ⋯ | 0 | NA | NA    | NA   |    0 | 11 | 2008 | New | Partial | 394617 |\n| 1439 |  20 | RM | 90 |  7407 | Pave | NA   | Reg | Lvl | AllPub | ⋯ | 0 | NA | MnPrv | NA   |    0 |  4 | 2010 | WD  | Normal  | 149700 |\n| 1440 |  60 | RL | 80 | 11584 | Pave | NA   | Reg | Lvl | AllPub | ⋯ | 0 | NA | NA    | NA   |    0 | 11 | 2007 | WD  | Normal  | 197000 |\n| 1441 |  70 | RL | 79 | 11526 | Pave | NA   | IR1 | Bnk | AllPub | ⋯ | 0 | NA | NA    | NA   |    0 |  9 | 2008 | WD  | Normal  | 191000 |\n| 1442 | 120 | RM | NA |  4426 | Pave | NA   | Reg | Lvl | AllPub | ⋯ | 0 | NA | NA    | NA   |    0 |  5 | 2008 | WD  | Normal  | 149300 |\n| 1443 |  60 | FV | 85 | 11003 | Pave | NA   | Reg | Lvl | AllPub | ⋯ | 0 | NA | NA    | NA   |    0 |  4 | 2009 | WD  | Normal  | 310000 |\n| 1444 |  30 | RL | NA |  8854 | Pave | NA   | Reg | Lvl | AllPub | ⋯ | 0 | NA | NA    | NA   |    0 |  5 | 2009 | WD  | Normal  | 121000 |\n| 1445 |  20 | RL | 63 |  8500 | Pave | NA   | Reg | Lvl | AllPub | ⋯ | 0 | NA | NA    | NA   |    0 | 11 | 2007 | WD  | Normal  | 179600 |\n| 1446 |  85 | RL | 70 |  8400 | Pave | NA   | Reg | Lvl | AllPub | ⋯ | 0 | NA | NA    | NA   |    0 |  5 | 2007 | WD  | Normal  | 129000 |\n| 1447 |  20 | RL | NA | 26142 | Pave | NA   | IR1 | Lvl | AllPub | ⋯ | 0 | NA | NA    | NA   |    0 |  4 | 2010 | WD  | Normal  | 157900 |\n| 1448 |  60 | RL | 80 | 10000 | Pave | NA   | Reg | Lvl | AllPub | ⋯ | 0 | NA | NA    | NA   |    0 | 12 | 2007 | WD  | Normal  | 240000 |\n| 1449 |  50 | RL | 70 | 11767 | Pave | NA   | Reg | Lvl | AllPub | ⋯ | 0 | NA | GdWo  | NA   |    0 |  5 | 2007 | WD  | Normal  | 112000 |\n| 1450 | 180 | RM | 21 |  1533 | Pave | NA   | Reg | Lvl | AllPub | ⋯ | 0 | NA | NA    | NA   |    0 |  8 | 2006 | WD  | Abnorml |  92000 |\n| 1451 |  90 | RL | 60 |  9000 | Pave | NA   | Reg | Lvl | AllPub | ⋯ | 0 | NA | NA    | NA   |    0 |  9 | 2009 | WD  | Normal  | 136000 |\n| 1452 |  20 | RL | 78 |  9262 | Pave | NA   | Reg | Lvl | AllPub | ⋯ | 0 | NA | NA    | NA   |    0 |  5 | 2009 | New | Partial | 287090 |\n| 1453 | 180 | RM | 35 |  3675 | Pave | NA   | Reg | Lvl | AllPub | ⋯ | 0 | NA | NA    | NA   |    0 |  5 | 2006 | WD  | Normal  | 145000 |\n| 1454 |  20 | RL | 90 | 17217 | Pave | NA   | Reg | Lvl | AllPub | ⋯ | 0 | NA | NA    | NA   |    0 |  7 | 2006 | WD  | Abnorml |  84500 |\n| 1455 |  20 | FV | 62 |  7500 | Pave | Pave | Reg | Lvl | AllPub | ⋯ | 0 | NA | NA    | NA   |    0 | 10 | 2009 | WD  | Normal  | 185000 |\n| 1456 |  60 | RL | 62 |  7917 | Pave | NA   | Reg | Lvl | AllPub | ⋯ | 0 | NA | NA    | NA   |    0 |  8 | 2007 | WD  | Normal  | 175000 |\n| 1457 |  20 | RL | 85 | 13175 | Pave | NA   | Reg | Lvl | AllPub | ⋯ | 0 | NA | MnPrv | NA   |    0 |  2 | 2010 | WD  | Normal  | 210000 |\n| 1458 |  70 | RL | 66 |  9042 | Pave | NA   | Reg | Lvl | AllPub | ⋯ | 0 | NA | GdPrv | Shed | 2500 |  5 | 2010 | WD  | Normal  | 266500 |\n| 1459 |  20 | RL | 68 |  9717 | Pave | NA   | Reg | Lvl | AllPub | ⋯ | 0 | NA | NA    | NA   |    0 |  4 | 2010 | WD  | Normal  | 142125 |\n| 1460 |  20 | RL | 75 |  9937 | Pave | NA   | Reg | Lvl | AllPub | ⋯ | 0 | NA | NA    | NA   |    0 |  6 | 2008 | WD  | Normal  | 147500 |\n\n",
            "text/html": [
              "<table class=\"dataframe\">\n",
              "<caption>A data.frame: 1460 × 81</caption>\n",
              "<thead>\n",
              "\t<tr><th scope=col>Id</th><th scope=col>MSSubClass</th><th scope=col>MSZoning</th><th scope=col>LotFrontage</th><th scope=col>LotArea</th><th scope=col>Street</th><th scope=col>Alley</th><th scope=col>LotShape</th><th scope=col>LandContour</th><th scope=col>Utilities</th><th scope=col>⋯</th><th scope=col>PoolArea</th><th scope=col>PoolQC</th><th scope=col>Fence</th><th scope=col>MiscFeature</th><th scope=col>MiscVal</th><th scope=col>MoSold</th><th scope=col>YrSold</th><th scope=col>SaleType</th><th scope=col>SaleCondition</th><th scope=col>SalePrice</th></tr>\n",
              "\t<tr><th scope=col>&lt;int&gt;</th><th scope=col>&lt;int&gt;</th><th scope=col>&lt;chr&gt;</th><th scope=col>&lt;int&gt;</th><th scope=col>&lt;int&gt;</th><th scope=col>&lt;chr&gt;</th><th scope=col>&lt;chr&gt;</th><th scope=col>&lt;chr&gt;</th><th scope=col>&lt;chr&gt;</th><th scope=col>&lt;chr&gt;</th><th scope=col>⋯</th><th scope=col>&lt;int&gt;</th><th scope=col>&lt;chr&gt;</th><th scope=col>&lt;chr&gt;</th><th scope=col>&lt;chr&gt;</th><th scope=col>&lt;int&gt;</th><th scope=col>&lt;int&gt;</th><th scope=col>&lt;int&gt;</th><th scope=col>&lt;chr&gt;</th><th scope=col>&lt;chr&gt;</th><th scope=col>&lt;int&gt;</th></tr>\n",
              "</thead>\n",
              "<tbody>\n",
              "\t<tr><td> 1</td><td> 60</td><td>RL</td><td> 65</td><td> 8450</td><td>Pave</td><td>NA  </td><td>Reg</td><td>Lvl</td><td>AllPub</td><td>⋯</td><td>0</td><td>NA</td><td>NA   </td><td>NA  </td><td>  0</td><td> 2</td><td>2008</td><td>WD </td><td>Normal </td><td>208500</td></tr>\n",
              "\t<tr><td> 2</td><td> 20</td><td>RL</td><td> 80</td><td> 9600</td><td>Pave</td><td>NA  </td><td>Reg</td><td>Lvl</td><td>AllPub</td><td>⋯</td><td>0</td><td>NA</td><td>NA   </td><td>NA  </td><td>  0</td><td> 5</td><td>2007</td><td>WD </td><td>Normal </td><td>181500</td></tr>\n",
              "\t<tr><td> 3</td><td> 60</td><td>RL</td><td> 68</td><td>11250</td><td>Pave</td><td>NA  </td><td>IR1</td><td>Lvl</td><td>AllPub</td><td>⋯</td><td>0</td><td>NA</td><td>NA   </td><td>NA  </td><td>  0</td><td> 9</td><td>2008</td><td>WD </td><td>Normal </td><td>223500</td></tr>\n",
              "\t<tr><td> 4</td><td> 70</td><td>RL</td><td> 60</td><td> 9550</td><td>Pave</td><td>NA  </td><td>IR1</td><td>Lvl</td><td>AllPub</td><td>⋯</td><td>0</td><td>NA</td><td>NA   </td><td>NA  </td><td>  0</td><td> 2</td><td>2006</td><td>WD </td><td>Abnorml</td><td>140000</td></tr>\n",
              "\t<tr><td> 5</td><td> 60</td><td>RL</td><td> 84</td><td>14260</td><td>Pave</td><td>NA  </td><td>IR1</td><td>Lvl</td><td>AllPub</td><td>⋯</td><td>0</td><td>NA</td><td>NA   </td><td>NA  </td><td>  0</td><td>12</td><td>2008</td><td>WD </td><td>Normal </td><td>250000</td></tr>\n",
              "\t<tr><td> 6</td><td> 50</td><td>RL</td><td> 85</td><td>14115</td><td>Pave</td><td>NA  </td><td>IR1</td><td>Lvl</td><td>AllPub</td><td>⋯</td><td>0</td><td>NA</td><td>MnPrv</td><td>Shed</td><td>700</td><td>10</td><td>2009</td><td>WD </td><td>Normal </td><td>143000</td></tr>\n",
              "\t<tr><td> 7</td><td> 20</td><td>RL</td><td> 75</td><td>10084</td><td>Pave</td><td>NA  </td><td>Reg</td><td>Lvl</td><td>AllPub</td><td>⋯</td><td>0</td><td>NA</td><td>NA   </td><td>NA  </td><td>  0</td><td> 8</td><td>2007</td><td>WD </td><td>Normal </td><td>307000</td></tr>\n",
              "\t<tr><td> 8</td><td> 60</td><td>RL</td><td> NA</td><td>10382</td><td>Pave</td><td>NA  </td><td>IR1</td><td>Lvl</td><td>AllPub</td><td>⋯</td><td>0</td><td>NA</td><td>NA   </td><td>Shed</td><td>350</td><td>11</td><td>2009</td><td>WD </td><td>Normal </td><td>200000</td></tr>\n",
              "\t<tr><td> 9</td><td> 50</td><td>RM</td><td> 51</td><td> 6120</td><td>Pave</td><td>NA  </td><td>Reg</td><td>Lvl</td><td>AllPub</td><td>⋯</td><td>0</td><td>NA</td><td>NA   </td><td>NA  </td><td>  0</td><td> 4</td><td>2008</td><td>WD </td><td>Abnorml</td><td>129900</td></tr>\n",
              "\t<tr><td>10</td><td>190</td><td>RL</td><td> 50</td><td> 7420</td><td>Pave</td><td>NA  </td><td>Reg</td><td>Lvl</td><td>AllPub</td><td>⋯</td><td>0</td><td>NA</td><td>NA   </td><td>NA  </td><td>  0</td><td> 1</td><td>2008</td><td>WD </td><td>Normal </td><td>118000</td></tr>\n",
              "\t<tr><td>11</td><td> 20</td><td>RL</td><td> 70</td><td>11200</td><td>Pave</td><td>NA  </td><td>Reg</td><td>Lvl</td><td>AllPub</td><td>⋯</td><td>0</td><td>NA</td><td>NA   </td><td>NA  </td><td>  0</td><td> 2</td><td>2008</td><td>WD </td><td>Normal </td><td>129500</td></tr>\n",
              "\t<tr><td>12</td><td> 60</td><td>RL</td><td> 85</td><td>11924</td><td>Pave</td><td>NA  </td><td>IR1</td><td>Lvl</td><td>AllPub</td><td>⋯</td><td>0</td><td>NA</td><td>NA   </td><td>NA  </td><td>  0</td><td> 7</td><td>2006</td><td>New</td><td>Partial</td><td>345000</td></tr>\n",
              "\t<tr><td>13</td><td> 20</td><td>RL</td><td> NA</td><td>12968</td><td>Pave</td><td>NA  </td><td>IR2</td><td>Lvl</td><td>AllPub</td><td>⋯</td><td>0</td><td>NA</td><td>NA   </td><td>NA  </td><td>  0</td><td> 9</td><td>2008</td><td>WD </td><td>Normal </td><td>144000</td></tr>\n",
              "\t<tr><td>14</td><td> 20</td><td>RL</td><td> 91</td><td>10652</td><td>Pave</td><td>NA  </td><td>IR1</td><td>Lvl</td><td>AllPub</td><td>⋯</td><td>0</td><td>NA</td><td>NA   </td><td>NA  </td><td>  0</td><td> 8</td><td>2007</td><td>New</td><td>Partial</td><td>279500</td></tr>\n",
              "\t<tr><td>15</td><td> 20</td><td>RL</td><td> NA</td><td>10920</td><td>Pave</td><td>NA  </td><td>IR1</td><td>Lvl</td><td>AllPub</td><td>⋯</td><td>0</td><td>NA</td><td>GdWo </td><td>NA  </td><td>  0</td><td> 5</td><td>2008</td><td>WD </td><td>Normal </td><td>157000</td></tr>\n",
              "\t<tr><td>16</td><td> 45</td><td>RM</td><td> 51</td><td> 6120</td><td>Pave</td><td>NA  </td><td>Reg</td><td>Lvl</td><td>AllPub</td><td>⋯</td><td>0</td><td>NA</td><td>GdPrv</td><td>NA  </td><td>  0</td><td> 7</td><td>2007</td><td>WD </td><td>Normal </td><td>132000</td></tr>\n",
              "\t<tr><td>17</td><td> 20</td><td>RL</td><td> NA</td><td>11241</td><td>Pave</td><td>NA  </td><td>IR1</td><td>Lvl</td><td>AllPub</td><td>⋯</td><td>0</td><td>NA</td><td>NA   </td><td>Shed</td><td>700</td><td> 3</td><td>2010</td><td>WD </td><td>Normal </td><td>149000</td></tr>\n",
              "\t<tr><td>18</td><td> 90</td><td>RL</td><td> 72</td><td>10791</td><td>Pave</td><td>NA  </td><td>Reg</td><td>Lvl</td><td>AllPub</td><td>⋯</td><td>0</td><td>NA</td><td>NA   </td><td>Shed</td><td>500</td><td>10</td><td>2006</td><td>WD </td><td>Normal </td><td> 90000</td></tr>\n",
              "\t<tr><td>19</td><td> 20</td><td>RL</td><td> 66</td><td>13695</td><td>Pave</td><td>NA  </td><td>Reg</td><td>Lvl</td><td>AllPub</td><td>⋯</td><td>0</td><td>NA</td><td>NA   </td><td>NA  </td><td>  0</td><td> 6</td><td>2008</td><td>WD </td><td>Normal </td><td>159000</td></tr>\n",
              "\t<tr><td>20</td><td> 20</td><td>RL</td><td> 70</td><td> 7560</td><td>Pave</td><td>NA  </td><td>Reg</td><td>Lvl</td><td>AllPub</td><td>⋯</td><td>0</td><td>NA</td><td>MnPrv</td><td>NA  </td><td>  0</td><td> 5</td><td>2009</td><td>COD</td><td>Abnorml</td><td>139000</td></tr>\n",
              "\t<tr><td>21</td><td> 60</td><td>RL</td><td>101</td><td>14215</td><td>Pave</td><td>NA  </td><td>IR1</td><td>Lvl</td><td>AllPub</td><td>⋯</td><td>0</td><td>NA</td><td>NA   </td><td>NA  </td><td>  0</td><td>11</td><td>2006</td><td>New</td><td>Partial</td><td>325300</td></tr>\n",
              "\t<tr><td>22</td><td> 45</td><td>RM</td><td> 57</td><td> 7449</td><td>Pave</td><td>Grvl</td><td>Reg</td><td>Bnk</td><td>AllPub</td><td>⋯</td><td>0</td><td>NA</td><td>GdPrv</td><td>NA  </td><td>  0</td><td> 6</td><td>2007</td><td>WD </td><td>Normal </td><td>139400</td></tr>\n",
              "\t<tr><td>23</td><td> 20</td><td>RL</td><td> 75</td><td> 9742</td><td>Pave</td><td>NA  </td><td>Reg</td><td>Lvl</td><td>AllPub</td><td>⋯</td><td>0</td><td>NA</td><td>NA   </td><td>NA  </td><td>  0</td><td> 9</td><td>2008</td><td>WD </td><td>Normal </td><td>230000</td></tr>\n",
              "\t<tr><td>24</td><td>120</td><td>RM</td><td> 44</td><td> 4224</td><td>Pave</td><td>NA  </td><td>Reg</td><td>Lvl</td><td>AllPub</td><td>⋯</td><td>0</td><td>NA</td><td>NA   </td><td>NA  </td><td>  0</td><td> 6</td><td>2007</td><td>WD </td><td>Normal </td><td>129900</td></tr>\n",
              "\t<tr><td>25</td><td> 20</td><td>RL</td><td> NA</td><td> 8246</td><td>Pave</td><td>NA  </td><td>IR1</td><td>Lvl</td><td>AllPub</td><td>⋯</td><td>0</td><td>NA</td><td>MnPrv</td><td>NA  </td><td>  0</td><td> 5</td><td>2010</td><td>WD </td><td>Normal </td><td>154000</td></tr>\n",
              "\t<tr><td>26</td><td> 20</td><td>RL</td><td>110</td><td>14230</td><td>Pave</td><td>NA  </td><td>Reg</td><td>Lvl</td><td>AllPub</td><td>⋯</td><td>0</td><td>NA</td><td>NA   </td><td>NA  </td><td>  0</td><td> 7</td><td>2009</td><td>WD </td><td>Normal </td><td>256300</td></tr>\n",
              "\t<tr><td>27</td><td> 20</td><td>RL</td><td> 60</td><td> 7200</td><td>Pave</td><td>NA  </td><td>Reg</td><td>Lvl</td><td>AllPub</td><td>⋯</td><td>0</td><td>NA</td><td>NA   </td><td>NA  </td><td>  0</td><td> 5</td><td>2010</td><td>WD </td><td>Normal </td><td>134800</td></tr>\n",
              "\t<tr><td>28</td><td> 20</td><td>RL</td><td> 98</td><td>11478</td><td>Pave</td><td>NA  </td><td>Reg</td><td>Lvl</td><td>AllPub</td><td>⋯</td><td>0</td><td>NA</td><td>NA   </td><td>NA  </td><td>  0</td><td> 5</td><td>2010</td><td>WD </td><td>Normal </td><td>306000</td></tr>\n",
              "\t<tr><td>29</td><td> 20</td><td>RL</td><td> 47</td><td>16321</td><td>Pave</td><td>NA  </td><td>IR1</td><td>Lvl</td><td>AllPub</td><td>⋯</td><td>0</td><td>NA</td><td>NA   </td><td>NA  </td><td>  0</td><td>12</td><td>2006</td><td>WD </td><td>Normal </td><td>207500</td></tr>\n",
              "\t<tr><td>30</td><td> 30</td><td>RM</td><td> 60</td><td> 6324</td><td>Pave</td><td>NA  </td><td>IR1</td><td>Lvl</td><td>AllPub</td><td>⋯</td><td>0</td><td>NA</td><td>NA   </td><td>NA  </td><td>  0</td><td> 5</td><td>2008</td><td>WD </td><td>Normal </td><td> 68500</td></tr>\n",
              "\t<tr><td>⋮</td><td>⋮</td><td>⋮</td><td>⋮</td><td>⋮</td><td>⋮</td><td>⋮</td><td>⋮</td><td>⋮</td><td>⋮</td><td>⋱</td><td>⋮</td><td>⋮</td><td>⋮</td><td>⋮</td><td>⋮</td><td>⋮</td><td>⋮</td><td>⋮</td><td>⋮</td><td>⋮</td></tr>\n",
              "\t<tr><td>1431</td><td> 60</td><td>RL</td><td>60</td><td>21930</td><td>Pave</td><td>NA  </td><td>IR3</td><td>Lvl</td><td>AllPub</td><td>⋯</td><td>0</td><td>NA</td><td>NA   </td><td>NA  </td><td>   0</td><td> 7</td><td>2006</td><td>WD </td><td>Normal </td><td>192140</td></tr>\n",
              "\t<tr><td>1432</td><td>120</td><td>RL</td><td>NA</td><td> 4928</td><td>Pave</td><td>NA  </td><td>IR1</td><td>Lvl</td><td>AllPub</td><td>⋯</td><td>0</td><td>NA</td><td>NA   </td><td>NA  </td><td>   0</td><td>10</td><td>2009</td><td>WD </td><td>Normal </td><td>143750</td></tr>\n",
              "\t<tr><td>1433</td><td> 30</td><td>RL</td><td>60</td><td>10800</td><td>Pave</td><td>Grvl</td><td>Reg</td><td>Lvl</td><td>AllPub</td><td>⋯</td><td>0</td><td>NA</td><td>NA   </td><td>NA  </td><td>   0</td><td> 8</td><td>2007</td><td>WD </td><td>Normal </td><td> 64500</td></tr>\n",
              "\t<tr><td>1434</td><td> 60</td><td>RL</td><td>93</td><td>10261</td><td>Pave</td><td>NA  </td><td>IR1</td><td>Lvl</td><td>AllPub</td><td>⋯</td><td>0</td><td>NA</td><td>NA   </td><td>NA  </td><td>   0</td><td> 5</td><td>2008</td><td>WD </td><td>Normal </td><td>186500</td></tr>\n",
              "\t<tr><td>1435</td><td> 20</td><td>RL</td><td>80</td><td>17400</td><td>Pave</td><td>NA  </td><td>Reg</td><td>Low</td><td>AllPub</td><td>⋯</td><td>0</td><td>NA</td><td>NA   </td><td>NA  </td><td>   0</td><td> 5</td><td>2006</td><td>WD </td><td>Normal </td><td>160000</td></tr>\n",
              "\t<tr><td>1436</td><td> 20</td><td>RL</td><td>80</td><td> 8400</td><td>Pave</td><td>NA  </td><td>Reg</td><td>Lvl</td><td>AllPub</td><td>⋯</td><td>0</td><td>NA</td><td>GdPrv</td><td>NA  </td><td>   0</td><td> 7</td><td>2008</td><td>COD</td><td>Abnorml</td><td>174000</td></tr>\n",
              "\t<tr><td>1437</td><td> 20</td><td>RL</td><td>60</td><td> 9000</td><td>Pave</td><td>NA  </td><td>Reg</td><td>Lvl</td><td>AllPub</td><td>⋯</td><td>0</td><td>NA</td><td>GdWo </td><td>NA  </td><td>   0</td><td> 5</td><td>2007</td><td>WD </td><td>Normal </td><td>120500</td></tr>\n",
              "\t<tr><td>1438</td><td> 20</td><td>RL</td><td>96</td><td>12444</td><td>Pave</td><td>NA  </td><td>Reg</td><td>Lvl</td><td>AllPub</td><td>⋯</td><td>0</td><td>NA</td><td>NA   </td><td>NA  </td><td>   0</td><td>11</td><td>2008</td><td>New</td><td>Partial</td><td>394617</td></tr>\n",
              "\t<tr><td>1439</td><td> 20</td><td>RM</td><td>90</td><td> 7407</td><td>Pave</td><td>NA  </td><td>Reg</td><td>Lvl</td><td>AllPub</td><td>⋯</td><td>0</td><td>NA</td><td>MnPrv</td><td>NA  </td><td>   0</td><td> 4</td><td>2010</td><td>WD </td><td>Normal </td><td>149700</td></tr>\n",
              "\t<tr><td>1440</td><td> 60</td><td>RL</td><td>80</td><td>11584</td><td>Pave</td><td>NA  </td><td>Reg</td><td>Lvl</td><td>AllPub</td><td>⋯</td><td>0</td><td>NA</td><td>NA   </td><td>NA  </td><td>   0</td><td>11</td><td>2007</td><td>WD </td><td>Normal </td><td>197000</td></tr>\n",
              "\t<tr><td>1441</td><td> 70</td><td>RL</td><td>79</td><td>11526</td><td>Pave</td><td>NA  </td><td>IR1</td><td>Bnk</td><td>AllPub</td><td>⋯</td><td>0</td><td>NA</td><td>NA   </td><td>NA  </td><td>   0</td><td> 9</td><td>2008</td><td>WD </td><td>Normal </td><td>191000</td></tr>\n",
              "\t<tr><td>1442</td><td>120</td><td>RM</td><td>NA</td><td> 4426</td><td>Pave</td><td>NA  </td><td>Reg</td><td>Lvl</td><td>AllPub</td><td>⋯</td><td>0</td><td>NA</td><td>NA   </td><td>NA  </td><td>   0</td><td> 5</td><td>2008</td><td>WD </td><td>Normal </td><td>149300</td></tr>\n",
              "\t<tr><td>1443</td><td> 60</td><td>FV</td><td>85</td><td>11003</td><td>Pave</td><td>NA  </td><td>Reg</td><td>Lvl</td><td>AllPub</td><td>⋯</td><td>0</td><td>NA</td><td>NA   </td><td>NA  </td><td>   0</td><td> 4</td><td>2009</td><td>WD </td><td>Normal </td><td>310000</td></tr>\n",
              "\t<tr><td>1444</td><td> 30</td><td>RL</td><td>NA</td><td> 8854</td><td>Pave</td><td>NA  </td><td>Reg</td><td>Lvl</td><td>AllPub</td><td>⋯</td><td>0</td><td>NA</td><td>NA   </td><td>NA  </td><td>   0</td><td> 5</td><td>2009</td><td>WD </td><td>Normal </td><td>121000</td></tr>\n",
              "\t<tr><td>1445</td><td> 20</td><td>RL</td><td>63</td><td> 8500</td><td>Pave</td><td>NA  </td><td>Reg</td><td>Lvl</td><td>AllPub</td><td>⋯</td><td>0</td><td>NA</td><td>NA   </td><td>NA  </td><td>   0</td><td>11</td><td>2007</td><td>WD </td><td>Normal </td><td>179600</td></tr>\n",
              "\t<tr><td>1446</td><td> 85</td><td>RL</td><td>70</td><td> 8400</td><td>Pave</td><td>NA  </td><td>Reg</td><td>Lvl</td><td>AllPub</td><td>⋯</td><td>0</td><td>NA</td><td>NA   </td><td>NA  </td><td>   0</td><td> 5</td><td>2007</td><td>WD </td><td>Normal </td><td>129000</td></tr>\n",
              "\t<tr><td>1447</td><td> 20</td><td>RL</td><td>NA</td><td>26142</td><td>Pave</td><td>NA  </td><td>IR1</td><td>Lvl</td><td>AllPub</td><td>⋯</td><td>0</td><td>NA</td><td>NA   </td><td>NA  </td><td>   0</td><td> 4</td><td>2010</td><td>WD </td><td>Normal </td><td>157900</td></tr>\n",
              "\t<tr><td>1448</td><td> 60</td><td>RL</td><td>80</td><td>10000</td><td>Pave</td><td>NA  </td><td>Reg</td><td>Lvl</td><td>AllPub</td><td>⋯</td><td>0</td><td>NA</td><td>NA   </td><td>NA  </td><td>   0</td><td>12</td><td>2007</td><td>WD </td><td>Normal </td><td>240000</td></tr>\n",
              "\t<tr><td>1449</td><td> 50</td><td>RL</td><td>70</td><td>11767</td><td>Pave</td><td>NA  </td><td>Reg</td><td>Lvl</td><td>AllPub</td><td>⋯</td><td>0</td><td>NA</td><td>GdWo </td><td>NA  </td><td>   0</td><td> 5</td><td>2007</td><td>WD </td><td>Normal </td><td>112000</td></tr>\n",
              "\t<tr><td>1450</td><td>180</td><td>RM</td><td>21</td><td> 1533</td><td>Pave</td><td>NA  </td><td>Reg</td><td>Lvl</td><td>AllPub</td><td>⋯</td><td>0</td><td>NA</td><td>NA   </td><td>NA  </td><td>   0</td><td> 8</td><td>2006</td><td>WD </td><td>Abnorml</td><td> 92000</td></tr>\n",
              "\t<tr><td>1451</td><td> 90</td><td>RL</td><td>60</td><td> 9000</td><td>Pave</td><td>NA  </td><td>Reg</td><td>Lvl</td><td>AllPub</td><td>⋯</td><td>0</td><td>NA</td><td>NA   </td><td>NA  </td><td>   0</td><td> 9</td><td>2009</td><td>WD </td><td>Normal </td><td>136000</td></tr>\n",
              "\t<tr><td>1452</td><td> 20</td><td>RL</td><td>78</td><td> 9262</td><td>Pave</td><td>NA  </td><td>Reg</td><td>Lvl</td><td>AllPub</td><td>⋯</td><td>0</td><td>NA</td><td>NA   </td><td>NA  </td><td>   0</td><td> 5</td><td>2009</td><td>New</td><td>Partial</td><td>287090</td></tr>\n",
              "\t<tr><td>1453</td><td>180</td><td>RM</td><td>35</td><td> 3675</td><td>Pave</td><td>NA  </td><td>Reg</td><td>Lvl</td><td>AllPub</td><td>⋯</td><td>0</td><td>NA</td><td>NA   </td><td>NA  </td><td>   0</td><td> 5</td><td>2006</td><td>WD </td><td>Normal </td><td>145000</td></tr>\n",
              "\t<tr><td>1454</td><td> 20</td><td>RL</td><td>90</td><td>17217</td><td>Pave</td><td>NA  </td><td>Reg</td><td>Lvl</td><td>AllPub</td><td>⋯</td><td>0</td><td>NA</td><td>NA   </td><td>NA  </td><td>   0</td><td> 7</td><td>2006</td><td>WD </td><td>Abnorml</td><td> 84500</td></tr>\n",
              "\t<tr><td>1455</td><td> 20</td><td>FV</td><td>62</td><td> 7500</td><td>Pave</td><td>Pave</td><td>Reg</td><td>Lvl</td><td>AllPub</td><td>⋯</td><td>0</td><td>NA</td><td>NA   </td><td>NA  </td><td>   0</td><td>10</td><td>2009</td><td>WD </td><td>Normal </td><td>185000</td></tr>\n",
              "\t<tr><td>1456</td><td> 60</td><td>RL</td><td>62</td><td> 7917</td><td>Pave</td><td>NA  </td><td>Reg</td><td>Lvl</td><td>AllPub</td><td>⋯</td><td>0</td><td>NA</td><td>NA   </td><td>NA  </td><td>   0</td><td> 8</td><td>2007</td><td>WD </td><td>Normal </td><td>175000</td></tr>\n",
              "\t<tr><td>1457</td><td> 20</td><td>RL</td><td>85</td><td>13175</td><td>Pave</td><td>NA  </td><td>Reg</td><td>Lvl</td><td>AllPub</td><td>⋯</td><td>0</td><td>NA</td><td>MnPrv</td><td>NA  </td><td>   0</td><td> 2</td><td>2010</td><td>WD </td><td>Normal </td><td>210000</td></tr>\n",
              "\t<tr><td>1458</td><td> 70</td><td>RL</td><td>66</td><td> 9042</td><td>Pave</td><td>NA  </td><td>Reg</td><td>Lvl</td><td>AllPub</td><td>⋯</td><td>0</td><td>NA</td><td>GdPrv</td><td>Shed</td><td>2500</td><td> 5</td><td>2010</td><td>WD </td><td>Normal </td><td>266500</td></tr>\n",
              "\t<tr><td>1459</td><td> 20</td><td>RL</td><td>68</td><td> 9717</td><td>Pave</td><td>NA  </td><td>Reg</td><td>Lvl</td><td>AllPub</td><td>⋯</td><td>0</td><td>NA</td><td>NA   </td><td>NA  </td><td>   0</td><td> 4</td><td>2010</td><td>WD </td><td>Normal </td><td>142125</td></tr>\n",
              "\t<tr><td>1460</td><td> 20</td><td>RL</td><td>75</td><td> 9937</td><td>Pave</td><td>NA  </td><td>Reg</td><td>Lvl</td><td>AllPub</td><td>⋯</td><td>0</td><td>NA</td><td>NA   </td><td>NA  </td><td>   0</td><td> 6</td><td>2008</td><td>WD </td><td>Normal </td><td>147500</td></tr>\n",
              "</tbody>\n",
              "</table>\n"
            ]
          },
          "metadata": {
            "tags": []
          }
        }
      ]
    },
    {
      "cell_type": "markdown",
      "metadata": {
        "id": "QQrbsVfRjcRs"
      },
      "source": [
        "**Task 1**\n",
        "Summarise the Dataset"
      ]
    },
    {
      "cell_type": "code",
      "metadata": {
        "colab": {
          "base_uri": "https://localhost:8080/",
          "height": 1000
        },
        "id": "AkQEJOdKO-TD",
        "outputId": "0a838b9d-ae55-468f-ba1a-1214f8976e1a"
      },
      "source": [
        "library(dplyr)\n",
        "summary(data)"
      ],
      "execution_count": null,
      "outputs": [
        {
          "output_type": "display_data",
          "data": {
            "text/plain": [
              "       Id           MSSubClass      MSZoning          LotFrontage    \n",
              " Min.   :   1.0   Min.   : 20.0   Length:1460        Min.   : 21.00  \n",
              " 1st Qu.: 365.8   1st Qu.: 20.0   Class :character   1st Qu.: 59.00  \n",
              " Median : 730.5   Median : 50.0   Mode  :character   Median : 69.00  \n",
              " Mean   : 730.5   Mean   : 56.9                      Mean   : 70.05  \n",
              " 3rd Qu.:1095.2   3rd Qu.: 70.0                      3rd Qu.: 80.00  \n",
              " Max.   :1460.0   Max.   :190.0                      Max.   :313.00  \n",
              "                                                     NA's   :259     \n",
              "    LotArea          Street             Alley             LotShape        \n",
              " Min.   :  1300   Length:1460        Length:1460        Length:1460       \n",
              " 1st Qu.:  7554   Class :character   Class :character   Class :character  \n",
              " Median :  9478   Mode  :character   Mode  :character   Mode  :character  \n",
              " Mean   : 10517                                                           \n",
              " 3rd Qu.: 11602                                                           \n",
              " Max.   :215245                                                           \n",
              "                                                                          \n",
              " LandContour         Utilities          LotConfig          LandSlope        \n",
              " Length:1460        Length:1460        Length:1460        Length:1460       \n",
              " Class :character   Class :character   Class :character   Class :character  \n",
              " Mode  :character   Mode  :character   Mode  :character   Mode  :character  \n",
              "                                                                            \n",
              "                                                                            \n",
              "                                                                            \n",
              "                                                                            \n",
              " Neighborhood        Condition1         Condition2          BldgType        \n",
              " Length:1460        Length:1460        Length:1460        Length:1460       \n",
              " Class :character   Class :character   Class :character   Class :character  \n",
              " Mode  :character   Mode  :character   Mode  :character   Mode  :character  \n",
              "                                                                            \n",
              "                                                                            \n",
              "                                                                            \n",
              "                                                                            \n",
              "  HouseStyle         OverallQual      OverallCond      YearBuilt   \n",
              " Length:1460        Min.   : 1.000   Min.   :1.000   Min.   :1872  \n",
              " Class :character   1st Qu.: 5.000   1st Qu.:5.000   1st Qu.:1954  \n",
              " Mode  :character   Median : 6.000   Median :5.000   Median :1973  \n",
              "                    Mean   : 6.099   Mean   :5.575   Mean   :1971  \n",
              "                    3rd Qu.: 7.000   3rd Qu.:6.000   3rd Qu.:2000  \n",
              "                    Max.   :10.000   Max.   :9.000   Max.   :2010  \n",
              "                                                                   \n",
              "  YearRemodAdd   RoofStyle           RoofMatl         Exterior1st       \n",
              " Min.   :1950   Length:1460        Length:1460        Length:1460       \n",
              " 1st Qu.:1967   Class :character   Class :character   Class :character  \n",
              " Median :1994   Mode  :character   Mode  :character   Mode  :character  \n",
              " Mean   :1985                                                           \n",
              " 3rd Qu.:2004                                                           \n",
              " Max.   :2010                                                           \n",
              "                                                                        \n",
              " Exterior2nd         MasVnrType          MasVnrArea      ExterQual        \n",
              " Length:1460        Length:1460        Min.   :   0.0   Length:1460       \n",
              " Class :character   Class :character   1st Qu.:   0.0   Class :character  \n",
              " Mode  :character   Mode  :character   Median :   0.0   Mode  :character  \n",
              "                                       Mean   : 103.7                     \n",
              "                                       3rd Qu.: 166.0                     \n",
              "                                       Max.   :1600.0                     \n",
              "                                       NA's   :8                          \n",
              "  ExterCond          Foundation          BsmtQual           BsmtCond        \n",
              " Length:1460        Length:1460        Length:1460        Length:1460       \n",
              " Class :character   Class :character   Class :character   Class :character  \n",
              " Mode  :character   Mode  :character   Mode  :character   Mode  :character  \n",
              "                                                                            \n",
              "                                                                            \n",
              "                                                                            \n",
              "                                                                            \n",
              " BsmtExposure       BsmtFinType1         BsmtFinSF1     BsmtFinType2      \n",
              " Length:1460        Length:1460        Min.   :   0.0   Length:1460       \n",
              " Class :character   Class :character   1st Qu.:   0.0   Class :character  \n",
              " Mode  :character   Mode  :character   Median : 383.5   Mode  :character  \n",
              "                                       Mean   : 443.6                     \n",
              "                                       3rd Qu.: 712.2                     \n",
              "                                       Max.   :5644.0                     \n",
              "                                                                          \n",
              "   BsmtFinSF2        BsmtUnfSF       TotalBsmtSF       Heating         \n",
              " Min.   :   0.00   Min.   :   0.0   Min.   :   0.0   Length:1460       \n",
              " 1st Qu.:   0.00   1st Qu.: 223.0   1st Qu.: 795.8   Class :character  \n",
              " Median :   0.00   Median : 477.5   Median : 991.5   Mode  :character  \n",
              " Mean   :  46.55   Mean   : 567.2   Mean   :1057.4                     \n",
              " 3rd Qu.:   0.00   3rd Qu.: 808.0   3rd Qu.:1298.2                     \n",
              " Max.   :1474.00   Max.   :2336.0   Max.   :6110.0                     \n",
              "                                                                       \n",
              "  HeatingQC          CentralAir         Electrical          X1stFlrSF   \n",
              " Length:1460        Length:1460        Length:1460        Min.   : 334  \n",
              " Class :character   Class :character   Class :character   1st Qu.: 882  \n",
              " Mode  :character   Mode  :character   Mode  :character   Median :1087  \n",
              "                                                          Mean   :1163  \n",
              "                                                          3rd Qu.:1391  \n",
              "                                                          Max.   :4692  \n",
              "                                                                        \n",
              "   X2ndFlrSF     LowQualFinSF       GrLivArea     BsmtFullBath   \n",
              " Min.   :   0   Min.   :  0.000   Min.   : 334   Min.   :0.0000  \n",
              " 1st Qu.:   0   1st Qu.:  0.000   1st Qu.:1130   1st Qu.:0.0000  \n",
              " Median :   0   Median :  0.000   Median :1464   Median :0.0000  \n",
              " Mean   : 347   Mean   :  5.845   Mean   :1515   Mean   :0.4253  \n",
              " 3rd Qu.: 728   3rd Qu.:  0.000   3rd Qu.:1777   3rd Qu.:1.0000  \n",
              " Max.   :2065   Max.   :572.000   Max.   :5642   Max.   :3.0000  \n",
              "                                                                 \n",
              "  BsmtHalfBath        FullBath        HalfBath       BedroomAbvGr  \n",
              " Min.   :0.00000   Min.   :0.000   Min.   :0.0000   Min.   :0.000  \n",
              " 1st Qu.:0.00000   1st Qu.:1.000   1st Qu.:0.0000   1st Qu.:2.000  \n",
              " Median :0.00000   Median :2.000   Median :0.0000   Median :3.000  \n",
              " Mean   :0.05753   Mean   :1.565   Mean   :0.3829   Mean   :2.866  \n",
              " 3rd Qu.:0.00000   3rd Qu.:2.000   3rd Qu.:1.0000   3rd Qu.:3.000  \n",
              " Max.   :2.00000   Max.   :3.000   Max.   :2.0000   Max.   :8.000  \n",
              "                                                                   \n",
              "  KitchenAbvGr   KitchenQual         TotRmsAbvGrd     Functional       \n",
              " Min.   :0.000   Length:1460        Min.   : 2.000   Length:1460       \n",
              " 1st Qu.:1.000   Class :character   1st Qu.: 5.000   Class :character  \n",
              " Median :1.000   Mode  :character   Median : 6.000   Mode  :character  \n",
              " Mean   :1.047                      Mean   : 6.518                     \n",
              " 3rd Qu.:1.000                      3rd Qu.: 7.000                     \n",
              " Max.   :3.000                      Max.   :14.000                     \n",
              "                                                                       \n",
              "   Fireplaces    FireplaceQu         GarageType         GarageYrBlt  \n",
              " Min.   :0.000   Length:1460        Length:1460        Min.   :1900  \n",
              " 1st Qu.:0.000   Class :character   Class :character   1st Qu.:1961  \n",
              " Median :1.000   Mode  :character   Mode  :character   Median :1980  \n",
              " Mean   :0.613                                         Mean   :1979  \n",
              " 3rd Qu.:1.000                                         3rd Qu.:2002  \n",
              " Max.   :3.000                                         Max.   :2010  \n",
              "                                                       NA's   :81    \n",
              " GarageFinish         GarageCars      GarageArea      GarageQual       \n",
              " Length:1460        Min.   :0.000   Min.   :   0.0   Length:1460       \n",
              " Class :character   1st Qu.:1.000   1st Qu.: 334.5   Class :character  \n",
              " Mode  :character   Median :2.000   Median : 480.0   Mode  :character  \n",
              "                    Mean   :1.767   Mean   : 473.0                     \n",
              "                    3rd Qu.:2.000   3rd Qu.: 576.0                     \n",
              "                    Max.   :4.000   Max.   :1418.0                     \n",
              "                                                                       \n",
              "  GarageCond         PavedDrive          WoodDeckSF      OpenPorchSF    \n",
              " Length:1460        Length:1460        Min.   :  0.00   Min.   :  0.00  \n",
              " Class :character   Class :character   1st Qu.:  0.00   1st Qu.:  0.00  \n",
              " Mode  :character   Mode  :character   Median :  0.00   Median : 25.00  \n",
              "                                       Mean   : 94.24   Mean   : 46.66  \n",
              "                                       3rd Qu.:168.00   3rd Qu.: 68.00  \n",
              "                                       Max.   :857.00   Max.   :547.00  \n",
              "                                                                        \n",
              " EnclosedPorch      X3SsnPorch      ScreenPorch        PoolArea      \n",
              " Min.   :  0.00   Min.   :  0.00   Min.   :  0.00   Min.   :  0.000  \n",
              " 1st Qu.:  0.00   1st Qu.:  0.00   1st Qu.:  0.00   1st Qu.:  0.000  \n",
              " Median :  0.00   Median :  0.00   Median :  0.00   Median :  0.000  \n",
              " Mean   : 21.95   Mean   :  3.41   Mean   : 15.06   Mean   :  2.759  \n",
              " 3rd Qu.:  0.00   3rd Qu.:  0.00   3rd Qu.:  0.00   3rd Qu.:  0.000  \n",
              " Max.   :552.00   Max.   :508.00   Max.   :480.00   Max.   :738.000  \n",
              "                                                                     \n",
              "    PoolQC             Fence           MiscFeature           MiscVal        \n",
              " Length:1460        Length:1460        Length:1460        Min.   :    0.00  \n",
              " Class :character   Class :character   Class :character   1st Qu.:    0.00  \n",
              " Mode  :character   Mode  :character   Mode  :character   Median :    0.00  \n",
              "                                                          Mean   :   43.49  \n",
              "                                                          3rd Qu.:    0.00  \n",
              "                                                          Max.   :15500.00  \n",
              "                                                                            \n",
              "     MoSold           YrSold       SaleType         SaleCondition     \n",
              " Min.   : 1.000   Min.   :2006   Length:1460        Length:1460       \n",
              " 1st Qu.: 5.000   1st Qu.:2007   Class :character   Class :character  \n",
              " Median : 6.000   Median :2008   Mode  :character   Mode  :character  \n",
              " Mean   : 6.322   Mean   :2008                                        \n",
              " 3rd Qu.: 8.000   3rd Qu.:2009                                        \n",
              " Max.   :12.000   Max.   :2010                                        \n",
              "                                                                      \n",
              "   SalePrice     \n",
              " Min.   : 34900  \n",
              " 1st Qu.:129975  \n",
              " Median :163000  \n",
              " Mean   :180921  \n",
              " 3rd Qu.:214000  \n",
              " Max.   :755000  \n",
              "                 "
            ]
          },
          "metadata": {
            "tags": []
          }
        }
      ]
    },
    {
      "cell_type": "markdown",
      "metadata": {
        "id": "Q9JCP1zcjlfY"
      },
      "source": [
        "Class Variable"
      ]
    },
    {
      "cell_type": "code",
      "metadata": {
        "colab": {
          "base_uri": "https://localhost:8080/",
          "height": 34
        },
        "id": "46WvdHuDPD2O",
        "outputId": "c6766d81-f329-499c-ef04-941ac297a03f"
      },
      "source": [
        "class(data)"
      ],
      "execution_count": null,
      "outputs": [
        {
          "output_type": "display_data",
          "data": {
            "text/plain": [
              "[1] \"data.frame\""
            ],
            "text/latex": "'data.frame'",
            "text/markdown": "'data.frame'",
            "text/html": [
              "'data.frame'"
            ]
          },
          "metadata": {
            "tags": []
          }
        }
      ]
    },
    {
      "cell_type": "markdown",
      "metadata": {
        "id": "djaJo_l1jtFW"
      },
      "source": [
        "slicing of Attributes"
      ]
    },
    {
      "cell_type": "code",
      "metadata": {
        "colab": {
          "base_uri": "https://localhost:8080/",
          "height": 1000
        },
        "id": "79IegCWHP8V9",
        "outputId": "53bfc1f4-f391-4cf9-84db-14a879dc5ee0"
      },
      "source": [
        "data_slice<- data %>% select(Id:SalePrice)\n",
        "summary(data_slice)"
      ],
      "execution_count": null,
      "outputs": [
        {
          "output_type": "display_data",
          "data": {
            "text/plain": [
              "       Id           MSSubClass      MSZoning          LotFrontage    \n",
              " Min.   :   1.0   Min.   : 20.0   Length:1460        Min.   : 21.00  \n",
              " 1st Qu.: 365.8   1st Qu.: 20.0   Class :character   1st Qu.: 59.00  \n",
              " Median : 730.5   Median : 50.0   Mode  :character   Median : 69.00  \n",
              " Mean   : 730.5   Mean   : 56.9                      Mean   : 70.05  \n",
              " 3rd Qu.:1095.2   3rd Qu.: 70.0                      3rd Qu.: 80.00  \n",
              " Max.   :1460.0   Max.   :190.0                      Max.   :313.00  \n",
              "                                                     NA's   :259     \n",
              "    LotArea          Street             Alley             LotShape        \n",
              " Min.   :  1300   Length:1460        Length:1460        Length:1460       \n",
              " 1st Qu.:  7554   Class :character   Class :character   Class :character  \n",
              " Median :  9478   Mode  :character   Mode  :character   Mode  :character  \n",
              " Mean   : 10517                                                           \n",
              " 3rd Qu.: 11602                                                           \n",
              " Max.   :215245                                                           \n",
              "                                                                          \n",
              " LandContour         Utilities          LotConfig          LandSlope        \n",
              " Length:1460        Length:1460        Length:1460        Length:1460       \n",
              " Class :character   Class :character   Class :character   Class :character  \n",
              " Mode  :character   Mode  :character   Mode  :character   Mode  :character  \n",
              "                                                                            \n",
              "                                                                            \n",
              "                                                                            \n",
              "                                                                            \n",
              " Neighborhood        Condition1         Condition2          BldgType        \n",
              " Length:1460        Length:1460        Length:1460        Length:1460       \n",
              " Class :character   Class :character   Class :character   Class :character  \n",
              " Mode  :character   Mode  :character   Mode  :character   Mode  :character  \n",
              "                                                                            \n",
              "                                                                            \n",
              "                                                                            \n",
              "                                                                            \n",
              "  HouseStyle         OverallQual      OverallCond      YearBuilt   \n",
              " Length:1460        Min.   : 1.000   Min.   :1.000   Min.   :1872  \n",
              " Class :character   1st Qu.: 5.000   1st Qu.:5.000   1st Qu.:1954  \n",
              " Mode  :character   Median : 6.000   Median :5.000   Median :1973  \n",
              "                    Mean   : 6.099   Mean   :5.575   Mean   :1971  \n",
              "                    3rd Qu.: 7.000   3rd Qu.:6.000   3rd Qu.:2000  \n",
              "                    Max.   :10.000   Max.   :9.000   Max.   :2010  \n",
              "                                                                   \n",
              "  YearRemodAdd   RoofStyle           RoofMatl         Exterior1st       \n",
              " Min.   :1950   Length:1460        Length:1460        Length:1460       \n",
              " 1st Qu.:1967   Class :character   Class :character   Class :character  \n",
              " Median :1994   Mode  :character   Mode  :character   Mode  :character  \n",
              " Mean   :1985                                                           \n",
              " 3rd Qu.:2004                                                           \n",
              " Max.   :2010                                                           \n",
              "                                                                        \n",
              " Exterior2nd         MasVnrType          MasVnrArea      ExterQual        \n",
              " Length:1460        Length:1460        Min.   :   0.0   Length:1460       \n",
              " Class :character   Class :character   1st Qu.:   0.0   Class :character  \n",
              " Mode  :character   Mode  :character   Median :   0.0   Mode  :character  \n",
              "                                       Mean   : 103.7                     \n",
              "                                       3rd Qu.: 166.0                     \n",
              "                                       Max.   :1600.0                     \n",
              "                                       NA's   :8                          \n",
              "  ExterCond          Foundation          BsmtQual           BsmtCond        \n",
              " Length:1460        Length:1460        Length:1460        Length:1460       \n",
              " Class :character   Class :character   Class :character   Class :character  \n",
              " Mode  :character   Mode  :character   Mode  :character   Mode  :character  \n",
              "                                                                            \n",
              "                                                                            \n",
              "                                                                            \n",
              "                                                                            \n",
              " BsmtExposure       BsmtFinType1         BsmtFinSF1     BsmtFinType2      \n",
              " Length:1460        Length:1460        Min.   :   0.0   Length:1460       \n",
              " Class :character   Class :character   1st Qu.:   0.0   Class :character  \n",
              " Mode  :character   Mode  :character   Median : 383.5   Mode  :character  \n",
              "                                       Mean   : 443.6                     \n",
              "                                       3rd Qu.: 712.2                     \n",
              "                                       Max.   :5644.0                     \n",
              "                                                                          \n",
              "   BsmtFinSF2        BsmtUnfSF       TotalBsmtSF       Heating         \n",
              " Min.   :   0.00   Min.   :   0.0   Min.   :   0.0   Length:1460       \n",
              " 1st Qu.:   0.00   1st Qu.: 223.0   1st Qu.: 795.8   Class :character  \n",
              " Median :   0.00   Median : 477.5   Median : 991.5   Mode  :character  \n",
              " Mean   :  46.55   Mean   : 567.2   Mean   :1057.4                     \n",
              " 3rd Qu.:   0.00   3rd Qu.: 808.0   3rd Qu.:1298.2                     \n",
              " Max.   :1474.00   Max.   :2336.0   Max.   :6110.0                     \n",
              "                                                                       \n",
              "  HeatingQC          CentralAir         Electrical          X1stFlrSF   \n",
              " Length:1460        Length:1460        Length:1460        Min.   : 334  \n",
              " Class :character   Class :character   Class :character   1st Qu.: 882  \n",
              " Mode  :character   Mode  :character   Mode  :character   Median :1087  \n",
              "                                                          Mean   :1163  \n",
              "                                                          3rd Qu.:1391  \n",
              "                                                          Max.   :4692  \n",
              "                                                                        \n",
              "   X2ndFlrSF     LowQualFinSF       GrLivArea     BsmtFullBath   \n",
              " Min.   :   0   Min.   :  0.000   Min.   : 334   Min.   :0.0000  \n",
              " 1st Qu.:   0   1st Qu.:  0.000   1st Qu.:1130   1st Qu.:0.0000  \n",
              " Median :   0   Median :  0.000   Median :1464   Median :0.0000  \n",
              " Mean   : 347   Mean   :  5.845   Mean   :1515   Mean   :0.4253  \n",
              " 3rd Qu.: 728   3rd Qu.:  0.000   3rd Qu.:1777   3rd Qu.:1.0000  \n",
              " Max.   :2065   Max.   :572.000   Max.   :5642   Max.   :3.0000  \n",
              "                                                                 \n",
              "  BsmtHalfBath        FullBath        HalfBath       BedroomAbvGr  \n",
              " Min.   :0.00000   Min.   :0.000   Min.   :0.0000   Min.   :0.000  \n",
              " 1st Qu.:0.00000   1st Qu.:1.000   1st Qu.:0.0000   1st Qu.:2.000  \n",
              " Median :0.00000   Median :2.000   Median :0.0000   Median :3.000  \n",
              " Mean   :0.05753   Mean   :1.565   Mean   :0.3829   Mean   :2.866  \n",
              " 3rd Qu.:0.00000   3rd Qu.:2.000   3rd Qu.:1.0000   3rd Qu.:3.000  \n",
              " Max.   :2.00000   Max.   :3.000   Max.   :2.0000   Max.   :8.000  \n",
              "                                                                   \n",
              "  KitchenAbvGr   KitchenQual         TotRmsAbvGrd     Functional       \n",
              " Min.   :0.000   Length:1460        Min.   : 2.000   Length:1460       \n",
              " 1st Qu.:1.000   Class :character   1st Qu.: 5.000   Class :character  \n",
              " Median :1.000   Mode  :character   Median : 6.000   Mode  :character  \n",
              " Mean   :1.047                      Mean   : 6.518                     \n",
              " 3rd Qu.:1.000                      3rd Qu.: 7.000                     \n",
              " Max.   :3.000                      Max.   :14.000                     \n",
              "                                                                       \n",
              "   Fireplaces    FireplaceQu         GarageType         GarageYrBlt  \n",
              " Min.   :0.000   Length:1460        Length:1460        Min.   :1900  \n",
              " 1st Qu.:0.000   Class :character   Class :character   1st Qu.:1961  \n",
              " Median :1.000   Mode  :character   Mode  :character   Median :1980  \n",
              " Mean   :0.613                                         Mean   :1979  \n",
              " 3rd Qu.:1.000                                         3rd Qu.:2002  \n",
              " Max.   :3.000                                         Max.   :2010  \n",
              "                                                       NA's   :81    \n",
              " GarageFinish         GarageCars      GarageArea      GarageQual       \n",
              " Length:1460        Min.   :0.000   Min.   :   0.0   Length:1460       \n",
              " Class :character   1st Qu.:1.000   1st Qu.: 334.5   Class :character  \n",
              " Mode  :character   Median :2.000   Median : 480.0   Mode  :character  \n",
              "                    Mean   :1.767   Mean   : 473.0                     \n",
              "                    3rd Qu.:2.000   3rd Qu.: 576.0                     \n",
              "                    Max.   :4.000   Max.   :1418.0                     \n",
              "                                                                       \n",
              "  GarageCond         PavedDrive          WoodDeckSF      OpenPorchSF    \n",
              " Length:1460        Length:1460        Min.   :  0.00   Min.   :  0.00  \n",
              " Class :character   Class :character   1st Qu.:  0.00   1st Qu.:  0.00  \n",
              " Mode  :character   Mode  :character   Median :  0.00   Median : 25.00  \n",
              "                                       Mean   : 94.24   Mean   : 46.66  \n",
              "                                       3rd Qu.:168.00   3rd Qu.: 68.00  \n",
              "                                       Max.   :857.00   Max.   :547.00  \n",
              "                                                                        \n",
              " EnclosedPorch      X3SsnPorch      ScreenPorch        PoolArea      \n",
              " Min.   :  0.00   Min.   :  0.00   Min.   :  0.00   Min.   :  0.000  \n",
              " 1st Qu.:  0.00   1st Qu.:  0.00   1st Qu.:  0.00   1st Qu.:  0.000  \n",
              " Median :  0.00   Median :  0.00   Median :  0.00   Median :  0.000  \n",
              " Mean   : 21.95   Mean   :  3.41   Mean   : 15.06   Mean   :  2.759  \n",
              " 3rd Qu.:  0.00   3rd Qu.:  0.00   3rd Qu.:  0.00   3rd Qu.:  0.000  \n",
              " Max.   :552.00   Max.   :508.00   Max.   :480.00   Max.   :738.000  \n",
              "                                                                     \n",
              "    PoolQC             Fence           MiscFeature           MiscVal        \n",
              " Length:1460        Length:1460        Length:1460        Min.   :    0.00  \n",
              " Class :character   Class :character   Class :character   1st Qu.:    0.00  \n",
              " Mode  :character   Mode  :character   Mode  :character   Median :    0.00  \n",
              "                                                          Mean   :   43.49  \n",
              "                                                          3rd Qu.:    0.00  \n",
              "                                                          Max.   :15500.00  \n",
              "                                                                            \n",
              "     MoSold           YrSold       SaleType         SaleCondition     \n",
              " Min.   : 1.000   Min.   :2006   Length:1460        Length:1460       \n",
              " 1st Qu.: 5.000   1st Qu.:2007   Class :character   Class :character  \n",
              " Median : 6.000   Median :2008   Mode  :character   Mode  :character  \n",
              " Mean   : 6.322   Mean   :2008                                        \n",
              " 3rd Qu.: 8.000   3rd Qu.:2009                                        \n",
              " Max.   :12.000   Max.   :2010                                        \n",
              "                                                                      \n",
              "   SalePrice     \n",
              " Min.   : 34900  \n",
              " 1st Qu.:129975  \n",
              " Median :163000  \n",
              " Mean   :180921  \n",
              " 3rd Qu.:214000  \n",
              " Max.   :755000  \n",
              "                 "
            ]
          },
          "metadata": {
            "tags": []
          }
        }
      ]
    },
    {
      "cell_type": "markdown",
      "metadata": {
        "id": "gqCRIYQZj8T7"
      },
      "source": [
        "Creating Function to Sample Dataset"
      ]
    },
    {
      "cell_type": "code",
      "metadata": {
        "id": "GHe5kZvyTHbJ",
        "colab": {
          "base_uri": "https://localhost:8080/",
          "height": 34
        },
        "outputId": "6f023c05-ca5e-4c7d-cc28-77f68ef0dcd5"
      },
      "source": [
        "bb<- data['Id']\n",
        "sample(bb[1:10,])"
      ],
      "execution_count": null,
      "outputs": [
        {
          "output_type": "display_data",
          "data": {
            "text/plain": [
              " [1]  5 10  1  2  8  9  3  4  7  6"
            ],
            "text/latex": "\\begin{enumerate*}\n\\item 5\n\\item 10\n\\item 1\n\\item 2\n\\item 8\n\\item 9\n\\item 3\n\\item 4\n\\item 7\n\\item 6\n\\end{enumerate*}\n",
            "text/markdown": "1. 5\n2. 10\n3. 1\n4. 2\n5. 8\n6. 9\n7. 3\n8. 4\n9. 7\n10. 6\n\n\n",
            "text/html": [
              "<style>\n",
              ".list-inline {list-style: none; margin:0; padding: 0}\n",
              ".list-inline>li {display: inline-block}\n",
              ".list-inline>li:not(:last-child)::after {content: \"\\00b7\"; padding: 0 .5ex}\n",
              "</style>\n",
              "<ol class=list-inline><li>5</li><li>10</li><li>1</li><li>2</li><li>8</li><li>9</li><li>3</li><li>4</li><li>7</li><li>6</li></ol>\n"
            ]
          },
          "metadata": {
            "tags": []
          }
        }
      ]
    },
    {
      "cell_type": "markdown",
      "metadata": {
        "id": "fEr4JHRl2NUn"
      },
      "source": [
        "5 point statistical summary"
      ]
    },
    {
      "cell_type": "code",
      "metadata": {
        "colab": {
          "base_uri": "https://localhost:8080/",
          "height": 102
        },
        "id": "01yiXa8T2Vbd",
        "outputId": "4f8b279b-c2b4-4523-cb33-3d690cca1322"
      },
      "source": [
        "paste('Min.Lower.Median.Upper.Max')\n",
        "fivenum(data$Id)\n",
        "fivenum(data$MSSubClass)\n",
        "fivenum(data$LotFrontage)\n",
        "fivenum(data$LotArea)\n"
      ],
      "execution_count": null,
      "outputs": [
        {
          "output_type": "display_data",
          "data": {
            "text/plain": [
              "[1] \"Min.Lower.Median.Upper.Max\""
            ],
            "text/latex": "'Min.Lower.Median.Upper.Max'",
            "text/markdown": "'Min.Lower.Median.Upper.Max'",
            "text/html": [
              "'Min.Lower.Median.Upper.Max'"
            ]
          },
          "metadata": {
            "tags": []
          }
        },
        {
          "output_type": "display_data",
          "data": {
            "text/plain": [
              "[1]    1.0  365.5  730.5 1095.5 1460.0"
            ],
            "text/latex": "\\begin{enumerate*}\n\\item 1\n\\item 365.5\n\\item 730.5\n\\item 1095.5\n\\item 1460\n\\end{enumerate*}\n",
            "text/markdown": "1. 1\n2. 365.5\n3. 730.5\n4. 1095.5\n5. 1460\n\n\n",
            "text/html": [
              "<style>\n",
              ".list-inline {list-style: none; margin:0; padding: 0}\n",
              ".list-inline>li {display: inline-block}\n",
              ".list-inline>li:not(:last-child)::after {content: \"\\00b7\"; padding: 0 .5ex}\n",
              "</style>\n",
              "<ol class=list-inline><li>1</li><li>365.5</li><li>730.5</li><li>1095.5</li><li>1460</li></ol>\n"
            ]
          },
          "metadata": {
            "tags": []
          }
        },
        {
          "output_type": "display_data",
          "data": {
            "text/plain": [
              "[1]  20  20  50  70 190"
            ],
            "text/latex": "\\begin{enumerate*}\n\\item 20\n\\item 20\n\\item 50\n\\item 70\n\\item 190\n\\end{enumerate*}\n",
            "text/markdown": "1. 20\n2. 20\n3. 50\n4. 70\n5. 190\n\n\n",
            "text/html": [
              "<style>\n",
              ".list-inline {list-style: none; margin:0; padding: 0}\n",
              ".list-inline>li {display: inline-block}\n",
              ".list-inline>li:not(:last-child)::after {content: \"\\00b7\"; padding: 0 .5ex}\n",
              "</style>\n",
              "<ol class=list-inline><li>20</li><li>20</li><li>50</li><li>70</li><li>190</li></ol>\n"
            ]
          },
          "metadata": {
            "tags": []
          }
        },
        {
          "output_type": "display_data",
          "data": {
            "text/plain": [
              "[1]  21  59  69  80 313"
            ],
            "text/latex": "\\begin{enumerate*}\n\\item 21\n\\item 59\n\\item 69\n\\item 80\n\\item 313\n\\end{enumerate*}\n",
            "text/markdown": "1. 21\n2. 59\n3. 69\n4. 80\n5. 313\n\n\n",
            "text/html": [
              "<style>\n",
              ".list-inline {list-style: none; margin:0; padding: 0}\n",
              ".list-inline>li {display: inline-block}\n",
              ".list-inline>li:not(:last-child)::after {content: \"\\00b7\"; padding: 0 .5ex}\n",
              "</style>\n",
              "<ol class=list-inline><li>21</li><li>59</li><li>69</li><li>80</li><li>313</li></ol>\n"
            ]
          },
          "metadata": {
            "tags": []
          }
        },
        {
          "output_type": "display_data",
          "data": {
            "text/plain": [
              "[1]   1300.0   7549.0   9478.5  11603.0 215245.0"
            ],
            "text/latex": "\\begin{enumerate*}\n\\item 1300\n\\item 7549\n\\item 9478.5\n\\item 11603\n\\item 215245\n\\end{enumerate*}\n",
            "text/markdown": "1. 1300\n2. 7549\n3. 9478.5\n4. 11603\n5. 215245\n\n\n",
            "text/html": [
              "<style>\n",
              ".list-inline {list-style: none; margin:0; padding: 0}\n",
              ".list-inline>li {display: inline-block}\n",
              ".list-inline>li:not(:last-child)::after {content: \"\\00b7\"; padding: 0 .5ex}\n",
              "</style>\n",
              "<ol class=list-inline><li>1300</li><li>7549</li><li>9478.5</li><li>11603</li><li>215245</li></ol>\n"
            ]
          },
          "metadata": {
            "tags": []
          }
        }
      ]
    },
    {
      "cell_type": "markdown",
      "metadata": {
        "id": "JJjDF3y9zd40"
      },
      "source": [
        "Task **2**"
      ]
    },
    {
      "cell_type": "markdown",
      "metadata": {
        "id": "kfX64rUozj9E"
      },
      "source": [
        "Finding the null values"
      ]
    },
    {
      "cell_type": "code",
      "metadata": {
        "colab": {
          "base_uri": "https://localhost:8080/",
          "height": 170
        },
        "id": "GPUD7ScPz3fL",
        "outputId": "1666e81e-85a4-4c4c-b27d-7156987b9ebb"
      },
      "source": [
        "colSums(is.na(data))"
      ],
      "execution_count": null,
      "outputs": [
        {
          "output_type": "display_data",
          "data": {
            "text/plain": [
              "           Id    MSSubClass      MSZoning   LotFrontage       LotArea \n",
              "            0             0             0           259             0 \n",
              "       Street         Alley      LotShape   LandContour     Utilities \n",
              "            0          1369             0             0             0 \n",
              "    LotConfig     LandSlope  Neighborhood    Condition1    Condition2 \n",
              "            0             0             0             0             0 \n",
              "     BldgType    HouseStyle   OverallQual   OverallCond     YearBuilt \n",
              "            0             0             0             0             0 \n",
              " YearRemodAdd     RoofStyle      RoofMatl   Exterior1st   Exterior2nd \n",
              "            0             0             0             0             0 \n",
              "   MasVnrType    MasVnrArea     ExterQual     ExterCond    Foundation \n",
              "            8             8             0             0             0 \n",
              "     BsmtQual      BsmtCond  BsmtExposure  BsmtFinType1    BsmtFinSF1 \n",
              "           37            37            38            37             0 \n",
              " BsmtFinType2    BsmtFinSF2     BsmtUnfSF   TotalBsmtSF       Heating \n",
              "           38             0             0             0             0 \n",
              "    HeatingQC    CentralAir    Electrical     X1stFlrSF     X2ndFlrSF \n",
              "            0             0             1             0             0 \n",
              " LowQualFinSF     GrLivArea  BsmtFullBath  BsmtHalfBath      FullBath \n",
              "            0             0             0             0             0 \n",
              "     HalfBath  BedroomAbvGr  KitchenAbvGr   KitchenQual  TotRmsAbvGrd \n",
              "            0             0             0             0             0 \n",
              "   Functional    Fireplaces   FireplaceQu    GarageType   GarageYrBlt \n",
              "            0             0           690            81            81 \n",
              " GarageFinish    GarageCars    GarageArea    GarageQual    GarageCond \n",
              "           81             0             0            81            81 \n",
              "   PavedDrive    WoodDeckSF   OpenPorchSF EnclosedPorch    X3SsnPorch \n",
              "            0             0             0             0             0 \n",
              "  ScreenPorch      PoolArea        PoolQC         Fence   MiscFeature \n",
              "            0             0          1453          1179          1406 \n",
              "      MiscVal        MoSold        YrSold      SaleType SaleCondition \n",
              "            0             0             0             0             0 \n",
              "    SalePrice \n",
              "            0 "
            ],
            "text/latex": "\\begin{description*}\n\\item[Id] 0\n\\item[MSSubClass] 0\n\\item[MSZoning] 0\n\\item[LotFrontage] 259\n\\item[LotArea] 0\n\\item[Street] 0\n\\item[Alley] 1369\n\\item[LotShape] 0\n\\item[LandContour] 0\n\\item[Utilities] 0\n\\item[LotConfig] 0\n\\item[LandSlope] 0\n\\item[Neighborhood] 0\n\\item[Condition1] 0\n\\item[Condition2] 0\n\\item[BldgType] 0\n\\item[HouseStyle] 0\n\\item[OverallQual] 0\n\\item[OverallCond] 0\n\\item[YearBuilt] 0\n\\item[YearRemodAdd] 0\n\\item[RoofStyle] 0\n\\item[RoofMatl] 0\n\\item[Exterior1st] 0\n\\item[Exterior2nd] 0\n\\item[MasVnrType] 8\n\\item[MasVnrArea] 8\n\\item[ExterQual] 0\n\\item[ExterCond] 0\n\\item[Foundation] 0\n\\item[BsmtQual] 37\n\\item[BsmtCond] 37\n\\item[BsmtExposure] 38\n\\item[BsmtFinType1] 37\n\\item[BsmtFinSF1] 0\n\\item[BsmtFinType2] 38\n\\item[BsmtFinSF2] 0\n\\item[BsmtUnfSF] 0\n\\item[TotalBsmtSF] 0\n\\item[Heating] 0\n\\item[HeatingQC] 0\n\\item[CentralAir] 0\n\\item[Electrical] 1\n\\item[X1stFlrSF] 0\n\\item[X2ndFlrSF] 0\n\\item[LowQualFinSF] 0\n\\item[GrLivArea] 0\n\\item[BsmtFullBath] 0\n\\item[BsmtHalfBath] 0\n\\item[FullBath] 0\n\\item[HalfBath] 0\n\\item[BedroomAbvGr] 0\n\\item[KitchenAbvGr] 0\n\\item[KitchenQual] 0\n\\item[TotRmsAbvGrd] 0\n\\item[Functional] 0\n\\item[Fireplaces] 0\n\\item[FireplaceQu] 690\n\\item[GarageType] 81\n\\item[GarageYrBlt] 81\n\\item[GarageFinish] 81\n\\item[GarageCars] 0\n\\item[GarageArea] 0\n\\item[GarageQual] 81\n\\item[GarageCond] 81\n\\item[PavedDrive] 0\n\\item[WoodDeckSF] 0\n\\item[OpenPorchSF] 0\n\\item[EnclosedPorch] 0\n\\item[X3SsnPorch] 0\n\\item[ScreenPorch] 0\n\\item[PoolArea] 0\n\\item[PoolQC] 1453\n\\item[Fence] 1179\n\\item[MiscFeature] 1406\n\\item[MiscVal] 0\n\\item[MoSold] 0\n\\item[YrSold] 0\n\\item[SaleType] 0\n\\item[SaleCondition] 0\n\\item[SalePrice] 0\n\\end{description*}\n",
            "text/markdown": "Id\n:   0MSSubClass\n:   0MSZoning\n:   0LotFrontage\n:   259LotArea\n:   0Street\n:   0Alley\n:   1369LotShape\n:   0LandContour\n:   0Utilities\n:   0LotConfig\n:   0LandSlope\n:   0Neighborhood\n:   0Condition1\n:   0Condition2\n:   0BldgType\n:   0HouseStyle\n:   0OverallQual\n:   0OverallCond\n:   0YearBuilt\n:   0YearRemodAdd\n:   0RoofStyle\n:   0RoofMatl\n:   0Exterior1st\n:   0Exterior2nd\n:   0MasVnrType\n:   8MasVnrArea\n:   8ExterQual\n:   0ExterCond\n:   0Foundation\n:   0BsmtQual\n:   37BsmtCond\n:   37BsmtExposure\n:   38BsmtFinType1\n:   37BsmtFinSF1\n:   0BsmtFinType2\n:   38BsmtFinSF2\n:   0BsmtUnfSF\n:   0TotalBsmtSF\n:   0Heating\n:   0HeatingQC\n:   0CentralAir\n:   0Electrical\n:   1X1stFlrSF\n:   0X2ndFlrSF\n:   0LowQualFinSF\n:   0GrLivArea\n:   0BsmtFullBath\n:   0BsmtHalfBath\n:   0FullBath\n:   0HalfBath\n:   0BedroomAbvGr\n:   0KitchenAbvGr\n:   0KitchenQual\n:   0TotRmsAbvGrd\n:   0Functional\n:   0Fireplaces\n:   0FireplaceQu\n:   690GarageType\n:   81GarageYrBlt\n:   81GarageFinish\n:   81GarageCars\n:   0GarageArea\n:   0GarageQual\n:   81GarageCond\n:   81PavedDrive\n:   0WoodDeckSF\n:   0OpenPorchSF\n:   0EnclosedPorch\n:   0X3SsnPorch\n:   0ScreenPorch\n:   0PoolArea\n:   0PoolQC\n:   1453Fence\n:   1179MiscFeature\n:   1406MiscVal\n:   0MoSold\n:   0YrSold\n:   0SaleType\n:   0SaleCondition\n:   0SalePrice\n:   0\n\n",
            "text/html": [
              "<style>\n",
              ".dl-inline {width: auto; margin:0; padding: 0}\n",
              ".dl-inline>dt, .dl-inline>dd {float: none; width: auto; display: inline-block}\n",
              ".dl-inline>dt::after {content: \":\\0020\"; padding-right: .5ex}\n",
              ".dl-inline>dt:not(:first-of-type) {padding-left: .5ex}\n",
              "</style><dl class=dl-inline><dt>Id</dt><dd>0</dd><dt>MSSubClass</dt><dd>0</dd><dt>MSZoning</dt><dd>0</dd><dt>LotFrontage</dt><dd>259</dd><dt>LotArea</dt><dd>0</dd><dt>Street</dt><dd>0</dd><dt>Alley</dt><dd>1369</dd><dt>LotShape</dt><dd>0</dd><dt>LandContour</dt><dd>0</dd><dt>Utilities</dt><dd>0</dd><dt>LotConfig</dt><dd>0</dd><dt>LandSlope</dt><dd>0</dd><dt>Neighborhood</dt><dd>0</dd><dt>Condition1</dt><dd>0</dd><dt>Condition2</dt><dd>0</dd><dt>BldgType</dt><dd>0</dd><dt>HouseStyle</dt><dd>0</dd><dt>OverallQual</dt><dd>0</dd><dt>OverallCond</dt><dd>0</dd><dt>YearBuilt</dt><dd>0</dd><dt>YearRemodAdd</dt><dd>0</dd><dt>RoofStyle</dt><dd>0</dd><dt>RoofMatl</dt><dd>0</dd><dt>Exterior1st</dt><dd>0</dd><dt>Exterior2nd</dt><dd>0</dd><dt>MasVnrType</dt><dd>8</dd><dt>MasVnrArea</dt><dd>8</dd><dt>ExterQual</dt><dd>0</dd><dt>ExterCond</dt><dd>0</dd><dt>Foundation</dt><dd>0</dd><dt>BsmtQual</dt><dd>37</dd><dt>BsmtCond</dt><dd>37</dd><dt>BsmtExposure</dt><dd>38</dd><dt>BsmtFinType1</dt><dd>37</dd><dt>BsmtFinSF1</dt><dd>0</dd><dt>BsmtFinType2</dt><dd>38</dd><dt>BsmtFinSF2</dt><dd>0</dd><dt>BsmtUnfSF</dt><dd>0</dd><dt>TotalBsmtSF</dt><dd>0</dd><dt>Heating</dt><dd>0</dd><dt>HeatingQC</dt><dd>0</dd><dt>CentralAir</dt><dd>0</dd><dt>Electrical</dt><dd>1</dd><dt>X1stFlrSF</dt><dd>0</dd><dt>X2ndFlrSF</dt><dd>0</dd><dt>LowQualFinSF</dt><dd>0</dd><dt>GrLivArea</dt><dd>0</dd><dt>BsmtFullBath</dt><dd>0</dd><dt>BsmtHalfBath</dt><dd>0</dd><dt>FullBath</dt><dd>0</dd><dt>HalfBath</dt><dd>0</dd><dt>BedroomAbvGr</dt><dd>0</dd><dt>KitchenAbvGr</dt><dd>0</dd><dt>KitchenQual</dt><dd>0</dd><dt>TotRmsAbvGrd</dt><dd>0</dd><dt>Functional</dt><dd>0</dd><dt>Fireplaces</dt><dd>0</dd><dt>FireplaceQu</dt><dd>690</dd><dt>GarageType</dt><dd>81</dd><dt>GarageYrBlt</dt><dd>81</dd><dt>GarageFinish</dt><dd>81</dd><dt>GarageCars</dt><dd>0</dd><dt>GarageArea</dt><dd>0</dd><dt>GarageQual</dt><dd>81</dd><dt>GarageCond</dt><dd>81</dd><dt>PavedDrive</dt><dd>0</dd><dt>WoodDeckSF</dt><dd>0</dd><dt>OpenPorchSF</dt><dd>0</dd><dt>EnclosedPorch</dt><dd>0</dd><dt>X3SsnPorch</dt><dd>0</dd><dt>ScreenPorch</dt><dd>0</dd><dt>PoolArea</dt><dd>0</dd><dt>PoolQC</dt><dd>1453</dd><dt>Fence</dt><dd>1179</dd><dt>MiscFeature</dt><dd>1406</dd><dt>MiscVal</dt><dd>0</dd><dt>MoSold</dt><dd>0</dd><dt>YrSold</dt><dd>0</dd><dt>SaleType</dt><dd>0</dd><dt>SaleCondition</dt><dd>0</dd><dt>SalePrice</dt><dd>0</dd></dl>\n"
            ]
          },
          "metadata": {
            "tags": []
          }
        }
      ]
    },
    {
      "cell_type": "markdown",
      "metadata": {
        "id": "cbmb10af0Uqq"
      },
      "source": [
        "Delete the Null value columns"
      ]
    },
    {
      "cell_type": "code",
      "metadata": {
        "colab": {
          "base_uri": "https://localhost:8080/",
          "height": 303
        },
        "id": "CvF4DUWj0LJQ",
        "outputId": "62ff4540-0144-4c31-ddca-4d2f94279f57"
      },
      "source": [
        "sample_data_1less<- subset(data,select=-c(LotShape))\n",
        "head(sample_data_1less)"
      ],
      "execution_count": null,
      "outputs": [
        {
          "output_type": "display_data",
          "data": {
            "text/plain": [
              "  Id MSSubClass MSZoning LotFrontage LotArea Street Alley LandContour Utilities\n",
              "1 1  60         RL       65           8450   Pave   NA    Lvl         AllPub   \n",
              "2 2  20         RL       80           9600   Pave   NA    Lvl         AllPub   \n",
              "3 3  60         RL       68          11250   Pave   NA    Lvl         AllPub   \n",
              "4 4  70         RL       60           9550   Pave   NA    Lvl         AllPub   \n",
              "5 5  60         RL       84          14260   Pave   NA    Lvl         AllPub   \n",
              "6 6  50         RL       85          14115   Pave   NA    Lvl         AllPub   \n",
              "  LotConfig ⋯ PoolArea PoolQC Fence MiscFeature MiscVal MoSold YrSold SaleType\n",
              "1 Inside    ⋯ 0        NA     NA    NA            0      2     2008   WD      \n",
              "2 FR2       ⋯ 0        NA     NA    NA            0      5     2007   WD      \n",
              "3 Inside    ⋯ 0        NA     NA    NA            0      9     2008   WD      \n",
              "4 Corner    ⋯ 0        NA     NA    NA            0      2     2006   WD      \n",
              "5 FR2       ⋯ 0        NA     NA    NA            0     12     2008   WD      \n",
              "6 Inside    ⋯ 0        NA     MnPrv Shed        700     10     2009   WD      \n",
              "  SaleCondition SalePrice\n",
              "1 Normal        208500   \n",
              "2 Normal        181500   \n",
              "3 Normal        223500   \n",
              "4 Abnorml       140000   \n",
              "5 Normal        250000   \n",
              "6 Normal        143000   "
            ],
            "text/latex": "A data.frame: 6 × 80\n\\begin{tabular}{r|lllllllllllllllllllll}\n  & Id & MSSubClass & MSZoning & LotFrontage & LotArea & Street & Alley & LandContour & Utilities & LotConfig & ⋯ & PoolArea & PoolQC & Fence & MiscFeature & MiscVal & MoSold & YrSold & SaleType & SaleCondition & SalePrice\\\\\n  & <int> & <int> & <chr> & <int> & <int> & <chr> & <chr> & <chr> & <chr> & <chr> & ⋯ & <int> & <chr> & <chr> & <chr> & <int> & <int> & <int> & <chr> & <chr> & <int>\\\\\n\\hline\n\t1 & 1 & 60 & RL & 65 &  8450 & Pave & NA & Lvl & AllPub & Inside & ⋯ & 0 & NA & NA    & NA   &   0 &  2 & 2008 & WD & Normal  & 208500\\\\\n\t2 & 2 & 20 & RL & 80 &  9600 & Pave & NA & Lvl & AllPub & FR2    & ⋯ & 0 & NA & NA    & NA   &   0 &  5 & 2007 & WD & Normal  & 181500\\\\\n\t3 & 3 & 60 & RL & 68 & 11250 & Pave & NA & Lvl & AllPub & Inside & ⋯ & 0 & NA & NA    & NA   &   0 &  9 & 2008 & WD & Normal  & 223500\\\\\n\t4 & 4 & 70 & RL & 60 &  9550 & Pave & NA & Lvl & AllPub & Corner & ⋯ & 0 & NA & NA    & NA   &   0 &  2 & 2006 & WD & Abnorml & 140000\\\\\n\t5 & 5 & 60 & RL & 84 & 14260 & Pave & NA & Lvl & AllPub & FR2    & ⋯ & 0 & NA & NA    & NA   &   0 & 12 & 2008 & WD & Normal  & 250000\\\\\n\t6 & 6 & 50 & RL & 85 & 14115 & Pave & NA & Lvl & AllPub & Inside & ⋯ & 0 & NA & MnPrv & Shed & 700 & 10 & 2009 & WD & Normal  & 143000\\\\\n\\end{tabular}\n",
            "text/markdown": "\nA data.frame: 6 × 80\n\n| <!--/--> | Id &lt;int&gt; | MSSubClass &lt;int&gt; | MSZoning &lt;chr&gt; | LotFrontage &lt;int&gt; | LotArea &lt;int&gt; | Street &lt;chr&gt; | Alley &lt;chr&gt; | LandContour &lt;chr&gt; | Utilities &lt;chr&gt; | LotConfig &lt;chr&gt; | ⋯ ⋯ | PoolArea &lt;int&gt; | PoolQC &lt;chr&gt; | Fence &lt;chr&gt; | MiscFeature &lt;chr&gt; | MiscVal &lt;int&gt; | MoSold &lt;int&gt; | YrSold &lt;int&gt; | SaleType &lt;chr&gt; | SaleCondition &lt;chr&gt; | SalePrice &lt;int&gt; |\n|---|---|---|---|---|---|---|---|---|---|---|---|---|---|---|---|---|---|---|---|---|---|\n| 1 | 1 | 60 | RL | 65 |  8450 | Pave | NA | Lvl | AllPub | Inside | ⋯ | 0 | NA | NA    | NA   |   0 |  2 | 2008 | WD | Normal  | 208500 |\n| 2 | 2 | 20 | RL | 80 |  9600 | Pave | NA | Lvl | AllPub | FR2    | ⋯ | 0 | NA | NA    | NA   |   0 |  5 | 2007 | WD | Normal  | 181500 |\n| 3 | 3 | 60 | RL | 68 | 11250 | Pave | NA | Lvl | AllPub | Inside | ⋯ | 0 | NA | NA    | NA   |   0 |  9 | 2008 | WD | Normal  | 223500 |\n| 4 | 4 | 70 | RL | 60 |  9550 | Pave | NA | Lvl | AllPub | Corner | ⋯ | 0 | NA | NA    | NA   |   0 |  2 | 2006 | WD | Abnorml | 140000 |\n| 5 | 5 | 60 | RL | 84 | 14260 | Pave | NA | Lvl | AllPub | FR2    | ⋯ | 0 | NA | NA    | NA   |   0 | 12 | 2008 | WD | Normal  | 250000 |\n| 6 | 6 | 50 | RL | 85 | 14115 | Pave | NA | Lvl | AllPub | Inside | ⋯ | 0 | NA | MnPrv | Shed | 700 | 10 | 2009 | WD | Normal  | 143000 |\n\n",
            "text/html": [
              "<table class=\"dataframe\">\n",
              "<caption>A data.frame: 6 × 80</caption>\n",
              "<thead>\n",
              "\t<tr><th></th><th scope=col>Id</th><th scope=col>MSSubClass</th><th scope=col>MSZoning</th><th scope=col>LotFrontage</th><th scope=col>LotArea</th><th scope=col>Street</th><th scope=col>Alley</th><th scope=col>LandContour</th><th scope=col>Utilities</th><th scope=col>LotConfig</th><th scope=col>⋯</th><th scope=col>PoolArea</th><th scope=col>PoolQC</th><th scope=col>Fence</th><th scope=col>MiscFeature</th><th scope=col>MiscVal</th><th scope=col>MoSold</th><th scope=col>YrSold</th><th scope=col>SaleType</th><th scope=col>SaleCondition</th><th scope=col>SalePrice</th></tr>\n",
              "\t<tr><th></th><th scope=col>&lt;int&gt;</th><th scope=col>&lt;int&gt;</th><th scope=col>&lt;chr&gt;</th><th scope=col>&lt;int&gt;</th><th scope=col>&lt;int&gt;</th><th scope=col>&lt;chr&gt;</th><th scope=col>&lt;chr&gt;</th><th scope=col>&lt;chr&gt;</th><th scope=col>&lt;chr&gt;</th><th scope=col>&lt;chr&gt;</th><th scope=col>⋯</th><th scope=col>&lt;int&gt;</th><th scope=col>&lt;chr&gt;</th><th scope=col>&lt;chr&gt;</th><th scope=col>&lt;chr&gt;</th><th scope=col>&lt;int&gt;</th><th scope=col>&lt;int&gt;</th><th scope=col>&lt;int&gt;</th><th scope=col>&lt;chr&gt;</th><th scope=col>&lt;chr&gt;</th><th scope=col>&lt;int&gt;</th></tr>\n",
              "</thead>\n",
              "<tbody>\n",
              "\t<tr><th scope=row>1</th><td>1</td><td>60</td><td>RL</td><td>65</td><td> 8450</td><td>Pave</td><td>NA</td><td>Lvl</td><td>AllPub</td><td>Inside</td><td>⋯</td><td>0</td><td>NA</td><td>NA   </td><td>NA  </td><td>  0</td><td> 2</td><td>2008</td><td>WD</td><td>Normal </td><td>208500</td></tr>\n",
              "\t<tr><th scope=row>2</th><td>2</td><td>20</td><td>RL</td><td>80</td><td> 9600</td><td>Pave</td><td>NA</td><td>Lvl</td><td>AllPub</td><td>FR2   </td><td>⋯</td><td>0</td><td>NA</td><td>NA   </td><td>NA  </td><td>  0</td><td> 5</td><td>2007</td><td>WD</td><td>Normal </td><td>181500</td></tr>\n",
              "\t<tr><th scope=row>3</th><td>3</td><td>60</td><td>RL</td><td>68</td><td>11250</td><td>Pave</td><td>NA</td><td>Lvl</td><td>AllPub</td><td>Inside</td><td>⋯</td><td>0</td><td>NA</td><td>NA   </td><td>NA  </td><td>  0</td><td> 9</td><td>2008</td><td>WD</td><td>Normal </td><td>223500</td></tr>\n",
              "\t<tr><th scope=row>4</th><td>4</td><td>70</td><td>RL</td><td>60</td><td> 9550</td><td>Pave</td><td>NA</td><td>Lvl</td><td>AllPub</td><td>Corner</td><td>⋯</td><td>0</td><td>NA</td><td>NA   </td><td>NA  </td><td>  0</td><td> 2</td><td>2006</td><td>WD</td><td>Abnorml</td><td>140000</td></tr>\n",
              "\t<tr><th scope=row>5</th><td>5</td><td>60</td><td>RL</td><td>84</td><td>14260</td><td>Pave</td><td>NA</td><td>Lvl</td><td>AllPub</td><td>FR2   </td><td>⋯</td><td>0</td><td>NA</td><td>NA   </td><td>NA  </td><td>  0</td><td>12</td><td>2008</td><td>WD</td><td>Normal </td><td>250000</td></tr>\n",
              "\t<tr><th scope=row>6</th><td>6</td><td>50</td><td>RL</td><td>85</td><td>14115</td><td>Pave</td><td>NA</td><td>Lvl</td><td>AllPub</td><td>Inside</td><td>⋯</td><td>0</td><td>NA</td><td>MnPrv</td><td>Shed</td><td>700</td><td>10</td><td>2009</td><td>WD</td><td>Normal </td><td>143000</td></tr>\n",
              "</tbody>\n",
              "</table>\n"
            ]
          },
          "metadata": {
            "tags": []
          }
        }
      ]
    },
    {
      "cell_type": "markdown",
      "metadata": {
        "id": "Qri6o-P90wF3"
      },
      "source": [
        "Summarize the Sample dataset"
      ]
    },
    {
      "cell_type": "code",
      "metadata": {
        "colab": {
          "base_uri": "https://localhost:8080/",
          "height": 1000
        },
        "id": "8yRsbEfS06FE",
        "outputId": "0c779106-0cdf-4ab5-c9b5-d8d73cade066"
      },
      "source": [
        "summary(sample_data_1less)"
      ],
      "execution_count": null,
      "outputs": [
        {
          "output_type": "display_data",
          "data": {
            "text/plain": [
              "       Id           MSSubClass      MSZoning          LotFrontage    \n",
              " Min.   :   1.0   Min.   : 20.0   Length:1460        Min.   : 21.00  \n",
              " 1st Qu.: 365.8   1st Qu.: 20.0   Class :character   1st Qu.: 59.00  \n",
              " Median : 730.5   Median : 50.0   Mode  :character   Median : 69.00  \n",
              " Mean   : 730.5   Mean   : 56.9                      Mean   : 70.05  \n",
              " 3rd Qu.:1095.2   3rd Qu.: 70.0                      3rd Qu.: 80.00  \n",
              " Max.   :1460.0   Max.   :190.0                      Max.   :313.00  \n",
              "                                                     NA's   :259     \n",
              "    LotArea          Street             Alley           LandContour       \n",
              " Min.   :  1300   Length:1460        Length:1460        Length:1460       \n",
              " 1st Qu.:  7554   Class :character   Class :character   Class :character  \n",
              " Median :  9478   Mode  :character   Mode  :character   Mode  :character  \n",
              " Mean   : 10517                                                           \n",
              " 3rd Qu.: 11602                                                           \n",
              " Max.   :215245                                                           \n",
              "                                                                          \n",
              "  Utilities          LotConfig          LandSlope         Neighborhood      \n",
              " Length:1460        Length:1460        Length:1460        Length:1460       \n",
              " Class :character   Class :character   Class :character   Class :character  \n",
              " Mode  :character   Mode  :character   Mode  :character   Mode  :character  \n",
              "                                                                            \n",
              "                                                                            \n",
              "                                                                            \n",
              "                                                                            \n",
              "  Condition1         Condition2          BldgType          HouseStyle       \n",
              " Length:1460        Length:1460        Length:1460        Length:1460       \n",
              " Class :character   Class :character   Class :character   Class :character  \n",
              " Mode  :character   Mode  :character   Mode  :character   Mode  :character  \n",
              "                                                                            \n",
              "                                                                            \n",
              "                                                                            \n",
              "                                                                            \n",
              "  OverallQual      OverallCond      YearBuilt     YearRemodAdd \n",
              " Min.   : 1.000   Min.   :1.000   Min.   :1872   Min.   :1950  \n",
              " 1st Qu.: 5.000   1st Qu.:5.000   1st Qu.:1954   1st Qu.:1967  \n",
              " Median : 6.000   Median :5.000   Median :1973   Median :1994  \n",
              " Mean   : 6.099   Mean   :5.575   Mean   :1971   Mean   :1985  \n",
              " 3rd Qu.: 7.000   3rd Qu.:6.000   3rd Qu.:2000   3rd Qu.:2004  \n",
              " Max.   :10.000   Max.   :9.000   Max.   :2010   Max.   :2010  \n",
              "                                                               \n",
              "  RoofStyle           RoofMatl         Exterior1st        Exterior2nd       \n",
              " Length:1460        Length:1460        Length:1460        Length:1460       \n",
              " Class :character   Class :character   Class :character   Class :character  \n",
              " Mode  :character   Mode  :character   Mode  :character   Mode  :character  \n",
              "                                                                            \n",
              "                                                                            \n",
              "                                                                            \n",
              "                                                                            \n",
              "  MasVnrType          MasVnrArea      ExterQual          ExterCond        \n",
              " Length:1460        Min.   :   0.0   Length:1460        Length:1460       \n",
              " Class :character   1st Qu.:   0.0   Class :character   Class :character  \n",
              " Mode  :character   Median :   0.0   Mode  :character   Mode  :character  \n",
              "                    Mean   : 103.7                                        \n",
              "                    3rd Qu.: 166.0                                        \n",
              "                    Max.   :1600.0                                        \n",
              "                    NA's   :8                                             \n",
              "  Foundation          BsmtQual           BsmtCond         BsmtExposure      \n",
              " Length:1460        Length:1460        Length:1460        Length:1460       \n",
              " Class :character   Class :character   Class :character   Class :character  \n",
              " Mode  :character   Mode  :character   Mode  :character   Mode  :character  \n",
              "                                                                            \n",
              "                                                                            \n",
              "                                                                            \n",
              "                                                                            \n",
              " BsmtFinType1         BsmtFinSF1     BsmtFinType2         BsmtFinSF2     \n",
              " Length:1460        Min.   :   0.0   Length:1460        Min.   :   0.00  \n",
              " Class :character   1st Qu.:   0.0   Class :character   1st Qu.:   0.00  \n",
              " Mode  :character   Median : 383.5   Mode  :character   Median :   0.00  \n",
              "                    Mean   : 443.6                      Mean   :  46.55  \n",
              "                    3rd Qu.: 712.2                      3rd Qu.:   0.00  \n",
              "                    Max.   :5644.0                      Max.   :1474.00  \n",
              "                                                                         \n",
              "   BsmtUnfSF       TotalBsmtSF       Heating           HeatingQC        \n",
              " Min.   :   0.0   Min.   :   0.0   Length:1460        Length:1460       \n",
              " 1st Qu.: 223.0   1st Qu.: 795.8   Class :character   Class :character  \n",
              " Median : 477.5   Median : 991.5   Mode  :character   Mode  :character  \n",
              " Mean   : 567.2   Mean   :1057.4                                        \n",
              " 3rd Qu.: 808.0   3rd Qu.:1298.2                                        \n",
              " Max.   :2336.0   Max.   :6110.0                                        \n",
              "                                                                        \n",
              "  CentralAir         Electrical          X1stFlrSF      X2ndFlrSF   \n",
              " Length:1460        Length:1460        Min.   : 334   Min.   :   0  \n",
              " Class :character   Class :character   1st Qu.: 882   1st Qu.:   0  \n",
              " Mode  :character   Mode  :character   Median :1087   Median :   0  \n",
              "                                       Mean   :1163   Mean   : 347  \n",
              "                                       3rd Qu.:1391   3rd Qu.: 728  \n",
              "                                       Max.   :4692   Max.   :2065  \n",
              "                                                                    \n",
              "  LowQualFinSF       GrLivArea     BsmtFullBath     BsmtHalfBath    \n",
              " Min.   :  0.000   Min.   : 334   Min.   :0.0000   Min.   :0.00000  \n",
              " 1st Qu.:  0.000   1st Qu.:1130   1st Qu.:0.0000   1st Qu.:0.00000  \n",
              " Median :  0.000   Median :1464   Median :0.0000   Median :0.00000  \n",
              " Mean   :  5.845   Mean   :1515   Mean   :0.4253   Mean   :0.05753  \n",
              " 3rd Qu.:  0.000   3rd Qu.:1777   3rd Qu.:1.0000   3rd Qu.:0.00000  \n",
              " Max.   :572.000   Max.   :5642   Max.   :3.0000   Max.   :2.00000  \n",
              "                                                                    \n",
              "    FullBath        HalfBath       BedroomAbvGr    KitchenAbvGr  \n",
              " Min.   :0.000   Min.   :0.0000   Min.   :0.000   Min.   :0.000  \n",
              " 1st Qu.:1.000   1st Qu.:0.0000   1st Qu.:2.000   1st Qu.:1.000  \n",
              " Median :2.000   Median :0.0000   Median :3.000   Median :1.000  \n",
              " Mean   :1.565   Mean   :0.3829   Mean   :2.866   Mean   :1.047  \n",
              " 3rd Qu.:2.000   3rd Qu.:1.0000   3rd Qu.:3.000   3rd Qu.:1.000  \n",
              " Max.   :3.000   Max.   :2.0000   Max.   :8.000   Max.   :3.000  \n",
              "                                                                 \n",
              " KitchenQual         TotRmsAbvGrd     Functional          Fireplaces   \n",
              " Length:1460        Min.   : 2.000   Length:1460        Min.   :0.000  \n",
              " Class :character   1st Qu.: 5.000   Class :character   1st Qu.:0.000  \n",
              " Mode  :character   Median : 6.000   Mode  :character   Median :1.000  \n",
              "                    Mean   : 6.518                      Mean   :0.613  \n",
              "                    3rd Qu.: 7.000                      3rd Qu.:1.000  \n",
              "                    Max.   :14.000                      Max.   :3.000  \n",
              "                                                                       \n",
              " FireplaceQu         GarageType         GarageYrBlt   GarageFinish      \n",
              " Length:1460        Length:1460        Min.   :1900   Length:1460       \n",
              " Class :character   Class :character   1st Qu.:1961   Class :character  \n",
              " Mode  :character   Mode  :character   Median :1980   Mode  :character  \n",
              "                                       Mean   :1979                     \n",
              "                                       3rd Qu.:2002                     \n",
              "                                       Max.   :2010                     \n",
              "                                       NA's   :81                       \n",
              "   GarageCars      GarageArea      GarageQual         GarageCond       \n",
              " Min.   :0.000   Min.   :   0.0   Length:1460        Length:1460       \n",
              " 1st Qu.:1.000   1st Qu.: 334.5   Class :character   Class :character  \n",
              " Median :2.000   Median : 480.0   Mode  :character   Mode  :character  \n",
              " Mean   :1.767   Mean   : 473.0                                        \n",
              " 3rd Qu.:2.000   3rd Qu.: 576.0                                        \n",
              " Max.   :4.000   Max.   :1418.0                                        \n",
              "                                                                       \n",
              "  PavedDrive          WoodDeckSF      OpenPorchSF     EnclosedPorch   \n",
              " Length:1460        Min.   :  0.00   Min.   :  0.00   Min.   :  0.00  \n",
              " Class :character   1st Qu.:  0.00   1st Qu.:  0.00   1st Qu.:  0.00  \n",
              " Mode  :character   Median :  0.00   Median : 25.00   Median :  0.00  \n",
              "                    Mean   : 94.24   Mean   : 46.66   Mean   : 21.95  \n",
              "                    3rd Qu.:168.00   3rd Qu.: 68.00   3rd Qu.:  0.00  \n",
              "                    Max.   :857.00   Max.   :547.00   Max.   :552.00  \n",
              "                                                                      \n",
              "   X3SsnPorch      ScreenPorch        PoolArea          PoolQC         \n",
              " Min.   :  0.00   Min.   :  0.00   Min.   :  0.000   Length:1460       \n",
              " 1st Qu.:  0.00   1st Qu.:  0.00   1st Qu.:  0.000   Class :character  \n",
              " Median :  0.00   Median :  0.00   Median :  0.000   Mode  :character  \n",
              " Mean   :  3.41   Mean   : 15.06   Mean   :  2.759                     \n",
              " 3rd Qu.:  0.00   3rd Qu.:  0.00   3rd Qu.:  0.000                     \n",
              " Max.   :508.00   Max.   :480.00   Max.   :738.000                     \n",
              "                                                                       \n",
              "    Fence           MiscFeature           MiscVal             MoSold      \n",
              " Length:1460        Length:1460        Min.   :    0.00   Min.   : 1.000  \n",
              " Class :character   Class :character   1st Qu.:    0.00   1st Qu.: 5.000  \n",
              " Mode  :character   Mode  :character   Median :    0.00   Median : 6.000  \n",
              "                                       Mean   :   43.49   Mean   : 6.322  \n",
              "                                       3rd Qu.:    0.00   3rd Qu.: 8.000  \n",
              "                                       Max.   :15500.00   Max.   :12.000  \n",
              "                                                                          \n",
              "     YrSold       SaleType         SaleCondition        SalePrice     \n",
              " Min.   :2006   Length:1460        Length:1460        Min.   : 34900  \n",
              " 1st Qu.:2007   Class :character   Class :character   1st Qu.:129975  \n",
              " Median :2008   Mode  :character   Mode  :character   Median :163000  \n",
              " Mean   :2008                                         Mean   :180921  \n",
              " 3rd Qu.:2009                                         3rd Qu.:214000  \n",
              " Max.   :2010                                         Max.   :755000  \n",
              "                                                                      "
            ]
          },
          "metadata": {
            "tags": []
          }
        }
      ]
    },
    {
      "cell_type": "markdown",
      "metadata": {
        "id": "9iZt5apd1LHu"
      },
      "source": [
        "Task **3**"
      ]
    },
    {
      "cell_type": "markdown",
      "metadata": {
        "id": "GWzCjtWk1Nlc"
      },
      "source": [
        "summary of two columns"
      ]
    },
    {
      "cell_type": "code",
      "metadata": {
        "colab": {
          "base_uri": "https://localhost:8080/",
          "height": 51
        },
        "id": "jXOUMz_i1TDJ",
        "outputId": "f675f5c7-0d17-4171-a9c7-94807f99a0d3"
      },
      "source": [
        "fivenum(data$MSSubClass)\n",
        "fivenum(data$LOtFrontage)"
      ],
      "execution_count": null,
      "outputs": [
        {
          "output_type": "display_data",
          "data": {
            "text/plain": [
              "[1]  20  20  50  70 190"
            ],
            "text/latex": "\\begin{enumerate*}\n\\item 20\n\\item 20\n\\item 50\n\\item 70\n\\item 190\n\\end{enumerate*}\n",
            "text/markdown": "1. 20\n2. 20\n3. 50\n4. 70\n5. 190\n\n\n",
            "text/html": [
              "<style>\n",
              ".list-inline {list-style: none; margin:0; padding: 0}\n",
              ".list-inline>li {display: inline-block}\n",
              ".list-inline>li:not(:last-child)::after {content: \"\\00b7\"; padding: 0 .5ex}\n",
              "</style>\n",
              "<ol class=list-inline><li>20</li><li>20</li><li>50</li><li>70</li><li>190</li></ol>\n"
            ]
          },
          "metadata": {
            "tags": []
          }
        },
        {
          "output_type": "display_data",
          "data": {
            "text/plain": [
              "[1] NA NA NA NA NA"
            ],
            "text/latex": "\\begin{enumerate*}\n\\item <NA>\n\\item <NA>\n\\item <NA>\n\\item <NA>\n\\item <NA>\n\\end{enumerate*}\n",
            "text/markdown": "1. &lt;NA&gt;\n2. &lt;NA&gt;\n3. &lt;NA&gt;\n4. &lt;NA&gt;\n5. &lt;NA&gt;\n\n\n",
            "text/html": [
              "<style>\n",
              ".list-inline {list-style: none; margin:0; padding: 0}\n",
              ".list-inline>li {display: inline-block}\n",
              ".list-inline>li:not(:last-child)::after {content: \"\\00b7\"; padding: 0 .5ex}\n",
              "</style>\n",
              "<ol class=list-inline><li>&lt;NA&gt;</li><li>&lt;NA&gt;</li><li>&lt;NA&gt;</li><li>&lt;NA&gt;</li><li>&lt;NA&gt;</li></ol>\n"
            ]
          },
          "metadata": {
            "tags": []
          }
        }
      ]
    },
    {
      "cell_type": "markdown",
      "metadata": {
        "id": "H9FvdJQq2_eG"
      },
      "source": [
        "Draw Scatter plot"
      ]
    },
    {
      "cell_type": "code",
      "metadata": {
        "colab": {
          "base_uri": "https://localhost:8080/",
          "height": 573
        },
        "id": "Ue4vyTwx3JNP",
        "outputId": "22e63862-8228-4aaa-d51c-ac1d270c4a3c"
      },
      "source": [
        "means<-colMeans(data[sapply(data,is.numeric)])\n",
        "means\n",
        "library(ggplot2)\n",
        "MoSold<-data$MoSold\n",
        "LotFrontage<-data$LotFrontage\n",
        "plot(data$MoSold,data$LotFrontage,main=\"Scatterplot\",xlab=\"MSSubClass\",ylab=\"LotFrontage\",las=1,xlim=c(0,2),col=2)"
      ],
      "execution_count": null,
      "outputs": [
        {
          "output_type": "display_data",
          "data": {
            "text/plain": [
              "           Id    MSSubClass   LotFrontage       LotArea   OverallQual \n",
              " 7.305000e+02  5.689726e+01            NA  1.051683e+04  6.099315e+00 \n",
              "  OverallCond     YearBuilt  YearRemodAdd    MasVnrArea    BsmtFinSF1 \n",
              " 5.575342e+00  1.971268e+03  1.984866e+03            NA  4.436397e+02 \n",
              "   BsmtFinSF2     BsmtUnfSF   TotalBsmtSF     X1stFlrSF     X2ndFlrSF \n",
              " 4.654932e+01  5.672404e+02  1.057429e+03  1.162627e+03  3.469925e+02 \n",
              " LowQualFinSF     GrLivArea  BsmtFullBath  BsmtHalfBath      FullBath \n",
              " 5.844521e+00  1.515464e+03  4.253425e-01  5.753425e-02  1.565068e+00 \n",
              "     HalfBath  BedroomAbvGr  KitchenAbvGr  TotRmsAbvGrd    Fireplaces \n",
              " 3.828767e-01  2.866438e+00  1.046575e+00  6.517808e+00  6.130137e-01 \n",
              "  GarageYrBlt    GarageCars    GarageArea    WoodDeckSF   OpenPorchSF \n",
              "           NA  1.767123e+00  4.729801e+02  9.424452e+01  4.666027e+01 \n",
              "EnclosedPorch    X3SsnPorch   ScreenPorch      PoolArea       MiscVal \n",
              " 2.195411e+01  3.409589e+00  1.506096e+01  2.758904e+00  4.348904e+01 \n",
              "       MoSold        YrSold     SalePrice \n",
              " 6.321918e+00  2.007816e+03  1.809212e+05 "
            ],
            "text/latex": "\\begin{description*}\n\\item[Id] 730.5\n\\item[MSSubClass] 56.8972602739726\n\\item[LotFrontage] <NA>\n\\item[LotArea] 10516.8280821918\n\\item[OverallQual] 6.09931506849315\n\\item[OverallCond] 5.57534246575342\n\\item[YearBuilt] 1971.26780821918\n\\item[YearRemodAdd] 1984.86575342466\n\\item[MasVnrArea] <NA>\n\\item[BsmtFinSF1] 443.639726027397\n\\item[BsmtFinSF2] 46.5493150684932\n\\item[BsmtUnfSF] 567.240410958904\n\\item[TotalBsmtSF] 1057.42945205479\n\\item[X1stFlrSF] 1162.62671232877\n\\item[X2ndFlrSF] 346.992465753425\n\\item[LowQualFinSF] 5.84452054794521\n\\item[GrLivArea] 1515.46369863014\n\\item[BsmtFullBath] 0.425342465753425\n\\item[BsmtHalfBath] 0.0575342465753425\n\\item[FullBath] 1.56506849315068\n\\item[HalfBath] 0.382876712328767\n\\item[BedroomAbvGr] 2.86643835616438\n\\item[KitchenAbvGr] 1.04657534246575\n\\item[TotRmsAbvGrd] 6.51780821917808\n\\item[Fireplaces] 0.613013698630137\n\\item[GarageYrBlt] <NA>\n\\item[GarageCars] 1.76712328767123\n\\item[GarageArea] 472.980136986301\n\\item[WoodDeckSF] 94.2445205479452\n\\item[OpenPorchSF] 46.6602739726027\n\\item[EnclosedPorch] 21.9541095890411\n\\item[X3SsnPorch] 3.40958904109589\n\\item[ScreenPorch] 15.0609589041096\n\\item[PoolArea] 2.75890410958904\n\\item[MiscVal] 43.4890410958904\n\\item[MoSold] 6.32191780821918\n\\item[YrSold] 2007.81575342466\n\\item[SalePrice] 180921.195890411\n\\end{description*}\n",
            "text/markdown": "Id\n:   730.5MSSubClass\n:   56.8972602739726LotFrontage\n:   &lt;NA&gt;LotArea\n:   10516.8280821918OverallQual\n:   6.09931506849315OverallCond\n:   5.57534246575342YearBuilt\n:   1971.26780821918YearRemodAdd\n:   1984.86575342466MasVnrArea\n:   &lt;NA&gt;BsmtFinSF1\n:   443.639726027397BsmtFinSF2\n:   46.5493150684932BsmtUnfSF\n:   567.240410958904TotalBsmtSF\n:   1057.42945205479X1stFlrSF\n:   1162.62671232877X2ndFlrSF\n:   346.992465753425LowQualFinSF\n:   5.84452054794521GrLivArea\n:   1515.46369863014BsmtFullBath\n:   0.425342465753425BsmtHalfBath\n:   0.0575342465753425FullBath\n:   1.56506849315068HalfBath\n:   0.382876712328767BedroomAbvGr\n:   2.86643835616438KitchenAbvGr\n:   1.04657534246575TotRmsAbvGrd\n:   6.51780821917808Fireplaces\n:   0.613013698630137GarageYrBlt\n:   &lt;NA&gt;GarageCars\n:   1.76712328767123GarageArea\n:   472.980136986301WoodDeckSF\n:   94.2445205479452OpenPorchSF\n:   46.6602739726027EnclosedPorch\n:   21.9541095890411X3SsnPorch\n:   3.40958904109589ScreenPorch\n:   15.0609589041096PoolArea\n:   2.75890410958904MiscVal\n:   43.4890410958904MoSold\n:   6.32191780821918YrSold\n:   2007.81575342466SalePrice\n:   180921.195890411\n\n",
            "text/html": [
              "<style>\n",
              ".dl-inline {width: auto; margin:0; padding: 0}\n",
              ".dl-inline>dt, .dl-inline>dd {float: none; width: auto; display: inline-block}\n",
              ".dl-inline>dt::after {content: \":\\0020\"; padding-right: .5ex}\n",
              ".dl-inline>dt:not(:first-of-type) {padding-left: .5ex}\n",
              "</style><dl class=dl-inline><dt>Id</dt><dd>730.5</dd><dt>MSSubClass</dt><dd>56.8972602739726</dd><dt>LotFrontage</dt><dd>&lt;NA&gt;</dd><dt>LotArea</dt><dd>10516.8280821918</dd><dt>OverallQual</dt><dd>6.09931506849315</dd><dt>OverallCond</dt><dd>5.57534246575342</dd><dt>YearBuilt</dt><dd>1971.26780821918</dd><dt>YearRemodAdd</dt><dd>1984.86575342466</dd><dt>MasVnrArea</dt><dd>&lt;NA&gt;</dd><dt>BsmtFinSF1</dt><dd>443.639726027397</dd><dt>BsmtFinSF2</dt><dd>46.5493150684932</dd><dt>BsmtUnfSF</dt><dd>567.240410958904</dd><dt>TotalBsmtSF</dt><dd>1057.42945205479</dd><dt>X1stFlrSF</dt><dd>1162.62671232877</dd><dt>X2ndFlrSF</dt><dd>346.992465753425</dd><dt>LowQualFinSF</dt><dd>5.84452054794521</dd><dt>GrLivArea</dt><dd>1515.46369863014</dd><dt>BsmtFullBath</dt><dd>0.425342465753425</dd><dt>BsmtHalfBath</dt><dd>0.0575342465753425</dd><dt>FullBath</dt><dd>1.56506849315068</dd><dt>HalfBath</dt><dd>0.382876712328767</dd><dt>BedroomAbvGr</dt><dd>2.86643835616438</dd><dt>KitchenAbvGr</dt><dd>1.04657534246575</dd><dt>TotRmsAbvGrd</dt><dd>6.51780821917808</dd><dt>Fireplaces</dt><dd>0.613013698630137</dd><dt>GarageYrBlt</dt><dd>&lt;NA&gt;</dd><dt>GarageCars</dt><dd>1.76712328767123</dd><dt>GarageArea</dt><dd>472.980136986301</dd><dt>WoodDeckSF</dt><dd>94.2445205479452</dd><dt>OpenPorchSF</dt><dd>46.6602739726027</dd><dt>EnclosedPorch</dt><dd>21.9541095890411</dd><dt>X3SsnPorch</dt><dd>3.40958904109589</dd><dt>ScreenPorch</dt><dd>15.0609589041096</dd><dt>PoolArea</dt><dd>2.75890410958904</dd><dt>MiscVal</dt><dd>43.4890410958904</dd><dt>MoSold</dt><dd>6.32191780821918</dd><dt>YrSold</dt><dd>2007.81575342466</dd><dt>SalePrice</dt><dd>180921.195890411</dd></dl>\n"
            ]
          },
          "metadata": {
            "tags": []
          }
        },
        {
          "output_type": "display_data",
          "data": {
            "image/png": "[encoded data removed]",
            "text/plain": [
              "Plot with title “Scatterplot”"
            ]
          },
          "metadata": {
            "tags": [],
            "image/png": {
              "width": 420,
              "height": 420
            }
          }
        }
      ]
    },
    {
      "cell_type": "markdown",
      "metadata": {
        "id": "n7EDtwFQ4hgh"
      },
      "source": [
        "plotting Histogram"
      ]
    },
    {
      "cell_type": "code",
      "metadata": {
        "colab": {
          "base_uri": "https://localhost:8080/",
          "height": 437
        },
        "id": "DADERsCR4mAm",
        "outputId": "3b427133-50be-4071-f358-629558397968"
      },
      "source": [
        "new.function<-function(LotFrontage){\n",
        "  hist(LotFrontage)\n",
        "}\n",
        "new.function(LotFrontage)"
      ],
      "execution_count": null,
      "outputs": [
        {
          "output_type": "display_data",
          "data": {
            "image/png": "[encoded data removed]",
            "text/plain": [
              "Plot with title “Histogram of LotFrontage”"
            ]
          },
          "metadata": {
            "tags": [],
            "image/png": {
              "width": 420,
              "height": 420
            }
          }
        }
      ]
    },
    {
      "cell_type": "markdown",
      "metadata": {
        "id": "BoGn85gf47Z0"
      },
      "source": [
        "find coefficient of correlation"
      ]
    },
    {
      "cell_type": "code",
      "metadata": {
        "colab": {
          "base_uri": "https://localhost:8080/",
          "height": 34
        },
        "id": "OroDBg5I5B-w",
        "outputId": "03e453bf-fe45-4c40-c382-55e1b5701982"
      },
      "source": [
        "cor(LotFrontage,MoSold,method=c(\"pearson\",\"kendall\",\"spearman\"))"
      ],
      "execution_count": null,
      "outputs": [
        {
          "output_type": "display_data",
          "data": {
            "text/plain": [
              "[1] NA"
            ],
            "text/latex": "<NA>",
            "text/markdown": "&lt;NA&gt;",
            "text/html": [
              "&lt;NA&gt;"
            ]
          },
          "metadata": {
            "tags": []
          }
        }
      ]
    },
    {
      "cell_type": "code",
      "metadata": {
        "id": "ZAucmPduziFj"
      },
      "source": [
        ""
      ],
      "execution_count": null,
      "outputs": []
    },
    {
      "cell_type": "code",
      "metadata": {
        "colab": {
          "base_uri": "https://localhost:8080/",
          "height": 437
        },
        "id": "T4arutaQ5TdM",
        "outputId": "f2609cef-9b14-409d-db1f-cb0d65f12bc2"
      },
      "source": [
        "boxplot(LotFrontage,MoSold)\n",
        "title(\"LotFrontage vs MoSold\")"
      ],
      "execution_count": null,
      "outputs": [
        {
          "output_type": "display_data",
          "data": {
            "image/png": "[encoded data removed]",
            "text/plain": [
              "Plot with title “LotFrontage vs MoSold”"
            ]
          },
          "metadata": {
            "tags": [],
            "image/png": {
              "width": 420,
              "height": 420
            }
          }
        }
      ]
    },
    {
      "cell_type": "code",
      "metadata": {
        "colab": {
          "base_uri": "https://localhost:8080/",
          "height": 437
        },
        "id": "fniGfbui5goS",
        "outputId": "9d5ce06e-3c7a-4f02-f096-050d6d2c8a29"
      },
      "source": [
        "boxplot(LotFrontage~MoSold,data=data,main=\"Box Plot\",xlab=\"LotFrontage\",ylab=\"MoSold\")"
      ],
      "execution_count": null,
      "outputs": [
        {
          "output_type": "display_data",
          "data": {
            "image/png": "[encoded data removed]",
            "text/plain": [
              "Plot with title “Box Plot”"
            ]
          },
          "metadata": {
            "tags": [],
            "image/png": {
              "width": 420,
              "height": 420
            }
          }
        }
      ]
    }
  ]
}